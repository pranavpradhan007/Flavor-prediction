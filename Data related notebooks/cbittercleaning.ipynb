{
 "cells": [
  {
   "cell_type": "code",
   "execution_count": 41,
   "metadata": {},
   "outputs": [],
   "source": [
    "import pandas as pd\n",
    "import numpy as np\n",
    "from rdkit import Chem"
   ]
  },
  {
   "cell_type": "code",
   "execution_count": 42,
   "metadata": {},
   "outputs": [],
   "source": [
    "cbitter=pd.read_csv(\"Data\\BitterDB\\cbitterresourceA_2024.csv\")"
   ]
  },
  {
   "cell_type": "code",
   "execution_count": 43,
   "metadata": {},
   "outputs": [
    {
     "data": {
      "text/html": [
       "<div>\n",
       "<style scoped>\n",
       "    .dataframe tbody tr th:only-of-type {\n",
       "        vertical-align: middle;\n",
       "    }\n",
       "\n",
       "    .dataframe tbody tr th {\n",
       "        vertical-align: top;\n",
       "    }\n",
       "\n",
       "    .dataframe thead th {\n",
       "        text-align: right;\n",
       "    }\n",
       "</style>\n",
       "<table border=\"1\" class=\"dataframe\">\n",
       "  <thead>\n",
       "    <tr style=\"text-align: right;\">\n",
       "      <th></th>\n",
       "      <th>cID</th>\n",
       "      <th>bitterResource</th>\n",
       "      <th>description</th>\n",
       "      <th>molIDinResource</th>\n",
       "      <th>type</th>\n",
       "      <th>bitterClassification</th>\n",
       "      <th>SensoryTestConcentration_mM</th>\n",
       "      <th>EC50_mM</th>\n",
       "      <th>thrPerKg_mM</th>\n",
       "      <th>citation</th>\n",
       "      <th>organism</th>\n",
       "    </tr>\n",
       "  </thead>\n",
       "  <tbody>\n",
       "    <tr>\n",
       "      <th>0</th>\n",
       "      <td>7</td>\n",
       "      <td>fenarolis handbook of flavor ingredients</td>\n",
       "      <td>NaN</td>\n",
       "      <td>NaN</td>\n",
       "      <td>NaN</td>\n",
       "      <td>NaN</td>\n",
       "      <td>NaN</td>\n",
       "      <td>NaN</td>\n",
       "      <td>NaN</td>\n",
       "      <td>NaN</td>\n",
       "      <td>NaN</td>\n",
       "    </tr>\n",
       "    <tr>\n",
       "      <th>1</th>\n",
       "      <td>7</td>\n",
       "      <td>https://www.ncbi.nlm.nih.gov/pubmed/7878099\\r</td>\n",
       "      <td>NaN</td>\n",
       "      <td>NaN</td>\n",
       "      <td>pubMed</td>\n",
       "      <td>NaN</td>\n",
       "      <td>0.008</td>\n",
       "      <td>NaN</td>\n",
       "      <td>NaN</td>\n",
       "      <td>Guinard JX, Hong DY, Zoumas-Morse C, Budwig C,...</td>\n",
       "      <td>NaN</td>\n",
       "    </tr>\n",
       "    <tr>\n",
       "      <th>2</th>\n",
       "      <td>7</td>\n",
       "      <td>https://www.sciencedirect.com/science/article/...</td>\n",
       "      <td>NaN</td>\n",
       "      <td>NaN</td>\n",
       "      <td>URL</td>\n",
       "      <td>NaN</td>\n",
       "      <td>0.008</td>\n",
       "      <td>NaN</td>\n",
       "      <td>NaN</td>\n",
       "      <td>NaN</td>\n",
       "      <td>NaN</td>\n",
       "    </tr>\n",
       "    <tr>\n",
       "      <th>3</th>\n",
       "      <td>7</td>\n",
       "      <td>pubChem</td>\n",
       "      <td>NaN</td>\n",
       "      <td>NaN</td>\n",
       "      <td>NaN</td>\n",
       "      <td>NaN</td>\n",
       "      <td>NaN</td>\n",
       "      <td>NaN</td>\n",
       "      <td>NaN</td>\n",
       "      <td>NaN</td>\n",
       "      <td>NaN</td>\n",
       "    </tr>\n",
       "    <tr>\n",
       "      <th>4</th>\n",
       "      <td>9</td>\n",
       "      <td>pubChem</td>\n",
       "      <td>NaN</td>\n",
       "      <td>NaN</td>\n",
       "      <td>NaN</td>\n",
       "      <td>NaN</td>\n",
       "      <td>NaN</td>\n",
       "      <td>NaN</td>\n",
       "      <td>NaN</td>\n",
       "      <td>NaN</td>\n",
       "      <td>NaN</td>\n",
       "    </tr>\n",
       "  </tbody>\n",
       "</table>\n",
       "</div>"
      ],
      "text/plain": [
       "   cID                                     bitterResource description  \\\n",
       "0    7           fenarolis handbook of flavor ingredients         NaN   \n",
       "1    7      https://www.ncbi.nlm.nih.gov/pubmed/7878099\\r         NaN   \n",
       "2    7  https://www.sciencedirect.com/science/article/...         NaN   \n",
       "3    7                                            pubChem         NaN   \n",
       "4    9                                            pubChem         NaN   \n",
       "\n",
       "  molIDinResource    type bitterClassification SensoryTestConcentration_mM  \\\n",
       "0             NaN     NaN                  NaN                         NaN   \n",
       "1             NaN  pubMed                  NaN                       0.008   \n",
       "2             NaN     URL                  NaN                       0.008   \n",
       "3             NaN     NaN                  NaN                         NaN   \n",
       "4             NaN     NaN                  NaN                         NaN   \n",
       "\n",
       "  EC50_mM  thrPerKg_mM                                           citation  \\\n",
       "0     NaN          NaN                                                NaN   \n",
       "1     NaN          NaN  Guinard JX, Hong DY, Zoumas-Morse C, Budwig C,...   \n",
       "2     NaN          NaN                                                NaN   \n",
       "3     NaN          NaN                                                NaN   \n",
       "4     NaN          NaN                                                NaN   \n",
       "\n",
       "   organism  \n",
       "0       NaN  \n",
       "1       NaN  \n",
       "2       NaN  \n",
       "3       NaN  \n",
       "4       NaN  "
      ]
     },
     "execution_count": 43,
     "metadata": {},
     "output_type": "execute_result"
    }
   ],
   "source": [
    "cbitter.head()"
   ]
  },
  {
   "cell_type": "code",
   "execution_count": 44,
   "metadata": {},
   "outputs": [
    {
     "data": {
      "text/plain": [
       "Index(['cID', 'bitterResource', 'description', 'molIDinResource', 'type',\n",
       "       'bitterClassification', 'SensoryTestConcentration_mM', 'EC50_mM',\n",
       "       'thrPerKg_mM', 'citation', 'organism'],\n",
       "      dtype='object')"
      ]
     },
     "execution_count": 44,
     "metadata": {},
     "output_type": "execute_result"
    }
   ],
   "source": [
    "cbitter.columns"
   ]
  },
  {
   "cell_type": "code",
   "execution_count": 45,
   "metadata": {},
   "outputs": [
    {
     "data": {
      "text/plain": [
       "cID                              int64\n",
       "bitterResource                  object\n",
       "description                     object\n",
       "molIDinResource                 object\n",
       "type                            object\n",
       "bitterClassification            object\n",
       "SensoryTestConcentration_mM     object\n",
       "EC50_mM                         object\n",
       "thrPerKg_mM                    float64\n",
       "citation                        object\n",
       "organism                       float64\n",
       "dtype: object"
      ]
     },
     "execution_count": 45,
     "metadata": {},
     "output_type": "execute_result"
    }
   ],
   "source": [
    "cbitter.dtypes"
   ]
  },
  {
   "cell_type": "code",
   "execution_count": 46,
   "metadata": {},
   "outputs": [
    {
     "data": {
      "text/plain": [
       "cID                               0\n",
       "bitterResource                    0\n",
       "description                    3998\n",
       "molIDinResource                3814\n",
       "type                            460\n",
       "bitterClassification           3667\n",
       "SensoryTestConcentration_mM    3108\n",
       "EC50_mM                        4033\n",
       "thrPerKg_mM                    4003\n",
       "citation                        799\n",
       "organism                       4049\n",
       "dtype: int64"
      ]
     },
     "execution_count": 46,
     "metadata": {},
     "output_type": "execute_result"
    }
   ],
   "source": [
    "cbitter.isna().sum()"
   ]
  },
  {
   "cell_type": "code",
   "execution_count": 47,
   "metadata": {},
   "outputs": [],
   "source": [
    "# Select relevant columns\n",
    "relevant_columns = ['cID', 'bitterClassification', 'SensoryTestConcentration_mM']\n",
    "cbitter_cleaned = cbitter[relevant_columns]"
   ]
  },
  {
   "cell_type": "code",
   "execution_count": 48,
   "metadata": {},
   "outputs": [
    {
     "name": "stderr",
     "output_type": "stream",
     "text": [
      "C:\\Users\\hp\\AppData\\Local\\Temp\\ipykernel_11072\\668943482.py:3: SettingWithCopyWarning: \n",
      "A value is trying to be set on a copy of a slice from a DataFrame.\n",
      "Try using .loc[row_indexer,col_indexer] = value instead\n",
      "\n",
      "See the caveats in the documentation: https://pandas.pydata.org/pandas-docs/stable/user_guide/indexing.html#returning-a-view-versus-a-copy\n",
      "  cbitter_cleaned[col] = pd.to_numeric(cbitter_cleaned[col], errors='coerce')\n"
     ]
    }
   ],
   "source": [
    "# Convert concentration columns to numeric, replacing non-numeric values with NaN\n",
    "for col in ['SensoryTestConcentration_mM']:\n",
    "    cbitter_cleaned[col] = pd.to_numeric(cbitter_cleaned[col], errors='coerce')"
   ]
  },
  {
   "cell_type": "code",
   "execution_count": 49,
   "metadata": {},
   "outputs": [],
   "source": [
    "# For bitterClassification, we'll keep NaN values as they might be informative\n",
    "# You might want to create a binary classification (bitter/not bitter) later\n",
    "\n",
    "# Drop rows where all concentration measures are NaN\n",
    "cbitter_cleaned = cbitter_cleaned.dropna(subset=['SensoryTestConcentration_mM'], how='all')"
   ]
  },
  {
   "cell_type": "code",
   "execution_count": 50,
   "metadata": {},
   "outputs": [],
   "source": [
    "cbitter_cleaned['bitterClassification'] = cbitter_cleaned['bitterClassification'].fillna('Unclassified')\n"
   ]
  },
  {
   "cell_type": "code",
   "execution_count": 51,
   "metadata": {},
   "outputs": [
    {
     "data": {
      "text/plain": [
       "cID                            0\n",
       "bitterClassification           0\n",
       "SensoryTestConcentration_mM    0\n",
       "dtype: int64"
      ]
     },
     "execution_count": 51,
     "metadata": {},
     "output_type": "execute_result"
    }
   ],
   "source": [
    "cbitter_cleaned.isna().sum()\n"
   ]
  },
  {
   "cell_type": "code",
   "execution_count": 52,
   "metadata": {},
   "outputs": [],
   "source": [
    "# Handle SensoryTestConcentration_mM\n",
    "# Option 1: Impute with median\n",
    "cbitter_cleaned['SensoryTestConcentration_mM'] = cbitter_cleaned['SensoryTestConcentration_mM'].fillna(cbitter_cleaned['SensoryTestConcentration_mM'].median())\n",
    "\n",
    "# Option 2: Keep NaN values (comment out the above line and uncomment the below line if you prefer this option)\n",
    "# cbitter_cleaned['SensoryTestConcentration_mM'] = cbitter_cleaned['SensoryTestConcentration_mM']\n",
    "\n"
   ]
  },
  {
   "cell_type": "code",
   "execution_count": 53,
   "metadata": {},
   "outputs": [
    {
     "name": "stdout",
     "output_type": "stream",
     "text": [
      "Final cleaned cbitterresources dataset saved with 932 entries.\n",
      "\n",
      "Final missing value summary:\n",
      "cID                            0\n",
      "bitterClassification           0\n",
      "SensoryTestConcentration_mM    0\n",
      "dtype: int64\n"
     ]
    }
   ],
   "source": [
    "cbitter_cleaned.to_csv(\"cbitterresourcesA_2024_final_cleaned.csv\", index=False)\n",
    "\n",
    "print(f\"Final cleaned cbitterresources dataset saved with {len(cbitter_cleaned)} entries.\")\n",
    "print(\"\\nFinal missing value summary:\")\n",
    "print(cbitter_cleaned.isna().sum())"
   ]
  },
  {
   "cell_type": "code",
   "execution_count": null,
   "metadata": {},
   "outputs": [],
   "source": []
  }
 ],
 "metadata": {
  "kernelspec": {
   "display_name": "Python 3",
   "language": "python",
   "name": "python3"
  },
  "language_info": {
   "codemirror_mode": {
    "name": "ipython",
    "version": 3
   },
   "file_extension": ".py",
   "mimetype": "text/x-python",
   "name": "python",
   "nbconvert_exporter": "python",
   "pygments_lexer": "ipython3",
   "version": "3.10.7"
  }
 },
 "nbformat": 4,
 "nbformat_minor": 2
}
