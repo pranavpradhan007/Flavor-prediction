{
 "cells": [
  {
   "cell_type": "code",
   "execution_count": 1,
   "metadata": {},
   "outputs": [],
   "source": [
    "import pandas as pd"
   ]
  },
  {
   "cell_type": "code",
   "execution_count": 4,
   "metadata": {},
   "outputs": [
    {
     "name": "stderr",
     "output_type": "stream",
     "text": [
      "C:\\Users\\hp\\AppData\\Local\\Temp\\ipykernel_22272\\137652392.py:1: DtypeWarning: Columns (3,4,5,6,12,13,14,15) have mixed types. Specify dtype option on import or set low_memory=False.\n",
      "  compounds=pd.read_csv('Data\\FooDB\\\\foodb_2020_4_7_csv\\\\foodb_2020_04_07_csv\\Compound.csv')\n"
     ]
    },
    {
     "data": {
      "text/html": [
       "<div>\n",
       "<style scoped>\n",
       "    .dataframe tbody tr th:only-of-type {\n",
       "        vertical-align: middle;\n",
       "    }\n",
       "\n",
       "    .dataframe tbody tr th {\n",
       "        vertical-align: top;\n",
       "    }\n",
       "\n",
       "    .dataframe thead th {\n",
       "        text-align: right;\n",
       "    }\n",
       "</style>\n",
       "<table border=\"1\" class=\"dataframe\">\n",
       "  <thead>\n",
       "    <tr style=\"text-align: right;\">\n",
       "      <th></th>\n",
       "      <th>id</th>\n",
       "      <th>public_id</th>\n",
       "      <th>name</th>\n",
       "      <th>moldb_iupac</th>\n",
       "      <th>state</th>\n",
       "      <th>annotation_quality</th>\n",
       "      <th>description</th>\n",
       "      <th>cas_number</th>\n",
       "      <th>moldb_inchikey</th>\n",
       "      <th>moldb_inchi</th>\n",
       "      <th>moldb_smiles</th>\n",
       "      <th>moldb_mono_mass</th>\n",
       "      <th>kingdom</th>\n",
       "      <th>superklass</th>\n",
       "      <th>klass</th>\n",
       "      <th>subklass</th>\n",
       "    </tr>\n",
       "  </thead>\n",
       "  <tbody>\n",
       "    <tr>\n",
       "      <th>0</th>\n",
       "      <td>4</td>\n",
       "      <td>FDB000004</td>\n",
       "      <td>Cyanidin 3-(6''-acetyl-galactoside)</td>\n",
       "      <td>NaN</td>\n",
       "      <td>low</td>\n",
       "      <td>Constituent of the leaves of Nymphaea alba [CC...</td>\n",
       "      <td>350602-26-5</td>\n",
       "      <td>[H][C@]1(COC(C)=O)O[C@@]([H])(OC2=CC3=C(O)C=C(...</td>\n",
       "      <td>InChI=1S/C23H22O12/c1-9(24)32-8-18-19(29)20(30...</td>\n",
       "      <td>491.118951</td>\n",
       "      <td>HBXXDBKJLPLXPR-DLBZZEGUSA-O</td>\n",
       "      <td>3-{[(2S,3R,4S,5R,6R)-6-[(acetyloxy)methyl]-3,4...</td>\n",
       "      <td>Organic compounds</td>\n",
       "      <td>Phenylpropanoids and polyketides</td>\n",
       "      <td>Flavonoids</td>\n",
       "      <td>Flavonoid glycosides</td>\n",
       "    </tr>\n",
       "    <tr>\n",
       "      <th>1</th>\n",
       "      <td>13</td>\n",
       "      <td>FDB000013</td>\n",
       "      <td>Cyanidin 3-(6''-succinyl-glucoside)</td>\n",
       "      <td>NaN</td>\n",
       "      <td>low</td>\n",
       "      <td>Constituent of Phragmites australis [CCD]. Cya...</td>\n",
       "      <td>216692-08-9</td>\n",
       "      <td>[H][C@]1(COC(=O)CCC(O)=O)O[C@@]([H])(OC2=CC3=C...</td>\n",
       "      <td>InChI=1S/C25H24O14/c26-11-6-14(28)12-8-17(24(3...</td>\n",
       "      <td>549.124431</td>\n",
       "      <td>MIYGQTFETYBMKF-WVXUANQFSA-O</td>\n",
       "      <td>7-methoxy-2,2-dimethyl-2H-chromene-6-carboxyli...</td>\n",
       "      <td>Organic compounds</td>\n",
       "      <td>Phenylpropanoids and polyketides</td>\n",
       "      <td>Flavonoids</td>\n",
       "      <td>Flavonoid glycosides</td>\n",
       "    </tr>\n",
       "    <tr>\n",
       "      <th>2</th>\n",
       "      <td>14</td>\n",
       "      <td>FDB000014</td>\n",
       "      <td>Pelargonidin 3-(6''-succinyl-glucoside)</td>\n",
       "      <td>liquid</td>\n",
       "      <td>low</td>\n",
       "      <td>Pelargonidin 3-(6''-succinyl-glucoside) is a m...</td>\n",
       "      <td>NaN</td>\n",
       "      <td>[H][C@]1(COC(=O)CCC(O)=O)O[C@@]([H])(OC2=CC3=C...</td>\n",
       "      <td>InChI=1S/C25H24O13/c26-12-3-1-11(2-4-12)24-17(...</td>\n",
       "      <td>533.129516</td>\n",
       "      <td>UBUSYXLSGMWUJJ-WVXUANQFSA-O</td>\n",
       "      <td>3-{[(2S,3R,4S,5S,6R)-6-{[(3-carboxypropanoyl)o...</td>\n",
       "      <td>NaN</td>\n",
       "      <td>NaN</td>\n",
       "      <td>NaN</td>\n",
       "      <td>NaN</td>\n",
       "    </tr>\n",
       "    <tr>\n",
       "      <th>3</th>\n",
       "      <td>24</td>\n",
       "      <td>FDB000024</td>\n",
       "      <td>Petunidin 3-O-(6''-acetyl-galactoside)</td>\n",
       "      <td>NaN</td>\n",
       "      <td>low</td>\n",
       "      <td>Petunidin 3-o-(6''-acetyl-galactoside) is a me...</td>\n",
       "      <td>NaN</td>\n",
       "      <td>[H][C@]1(COC(C)=O)OC(OC2=C([O+]=C3C=C(O)C=C(O)...</td>\n",
       "      <td>InChI=1S/C24H24O13/c1-9(25)34-8-18-20(30)21(31...</td>\n",
       "      <td>521.129516</td>\n",
       "      <td>GPUBWXUQPURXOQ-SKKXNPCDSA-O</td>\n",
       "      <td>3-{[(3R,4S,5R,6R)-6-[(acetyloxy)methyl]-3,4,5-...</td>\n",
       "      <td>NaN</td>\n",
       "      <td>NaN</td>\n",
       "      <td>NaN</td>\n",
       "      <td>NaN</td>\n",
       "    </tr>\n",
       "    <tr>\n",
       "      <th>4</th>\n",
       "      <td>25</td>\n",
       "      <td>FDB000025</td>\n",
       "      <td>Peonidin 3-(6''-acetyl-galactoside)</td>\n",
       "      <td>NaN</td>\n",
       "      <td>low</td>\n",
       "      <td>Peonidin 3-(6''-acetyl-galactoside) is a membe...</td>\n",
       "      <td>75-07-0</td>\n",
       "      <td>[H][C@]1(COC(C)=O)OC(OC2=C([O+]=C3C=C(O)C=C(O)...</td>\n",
       "      <td>InChI=1S/C24H24O12/c1-10(25)33-9-19-20(29)21(3...</td>\n",
       "      <td>505.134601</td>\n",
       "      <td>MBSKDCPWFSMEFD-ZKVZURMCSA-O</td>\n",
       "      <td>3-{[(3R,4S,5R,6R)-6-[(acetyloxy)methyl]-3,4,5-...</td>\n",
       "      <td>NaN</td>\n",
       "      <td>NaN</td>\n",
       "      <td>NaN</td>\n",
       "      <td>NaN</td>\n",
       "    </tr>\n",
       "  </tbody>\n",
       "</table>\n",
       "</div>"
      ],
      "text/plain": [
       "   id  public_id                                     name moldb_iupac state  \\\n",
       "0   4  FDB000004      Cyanidin 3-(6''-acetyl-galactoside)         NaN   low   \n",
       "1  13  FDB000013      Cyanidin 3-(6''-succinyl-glucoside)         NaN   low   \n",
       "2  14  FDB000014  Pelargonidin 3-(6''-succinyl-glucoside)      liquid   low   \n",
       "3  24  FDB000024   Petunidin 3-O-(6''-acetyl-galactoside)         NaN   low   \n",
       "4  25  FDB000025      Peonidin 3-(6''-acetyl-galactoside)         NaN   low   \n",
       "\n",
       "                                  annotation_quality  description  \\\n",
       "0  Constituent of the leaves of Nymphaea alba [CC...  350602-26-5   \n",
       "1  Constituent of Phragmites australis [CCD]. Cya...  216692-08-9   \n",
       "2  Pelargonidin 3-(6''-succinyl-glucoside) is a m...          NaN   \n",
       "3  Petunidin 3-o-(6''-acetyl-galactoside) is a me...          NaN   \n",
       "4  Peonidin 3-(6''-acetyl-galactoside) is a membe...      75-07-0   \n",
       "\n",
       "                                          cas_number  \\\n",
       "0  [H][C@]1(COC(C)=O)O[C@@]([H])(OC2=CC3=C(O)C=C(...   \n",
       "1  [H][C@]1(COC(=O)CCC(O)=O)O[C@@]([H])(OC2=CC3=C...   \n",
       "2  [H][C@]1(COC(=O)CCC(O)=O)O[C@@]([H])(OC2=CC3=C...   \n",
       "3  [H][C@]1(COC(C)=O)OC(OC2=C([O+]=C3C=C(O)C=C(O)...   \n",
       "4  [H][C@]1(COC(C)=O)OC(OC2=C([O+]=C3C=C(O)C=C(O)...   \n",
       "\n",
       "                                      moldb_inchikey  moldb_inchi  \\\n",
       "0  InChI=1S/C23H22O12/c1-9(24)32-8-18-19(29)20(30...   491.118951   \n",
       "1  InChI=1S/C25H24O14/c26-11-6-14(28)12-8-17(24(3...   549.124431   \n",
       "2  InChI=1S/C25H24O13/c26-12-3-1-11(2-4-12)24-17(...   533.129516   \n",
       "3  InChI=1S/C24H24O13/c1-9(25)34-8-18-20(30)21(31...   521.129516   \n",
       "4  InChI=1S/C24H24O12/c1-10(25)33-9-19-20(29)21(3...   505.134601   \n",
       "\n",
       "                  moldb_smiles  \\\n",
       "0  HBXXDBKJLPLXPR-DLBZZEGUSA-O   \n",
       "1  MIYGQTFETYBMKF-WVXUANQFSA-O   \n",
       "2  UBUSYXLSGMWUJJ-WVXUANQFSA-O   \n",
       "3  GPUBWXUQPURXOQ-SKKXNPCDSA-O   \n",
       "4  MBSKDCPWFSMEFD-ZKVZURMCSA-O   \n",
       "\n",
       "                                     moldb_mono_mass            kingdom  \\\n",
       "0  3-{[(2S,3R,4S,5R,6R)-6-[(acetyloxy)methyl]-3,4...  Organic compounds   \n",
       "1  7-methoxy-2,2-dimethyl-2H-chromene-6-carboxyli...  Organic compounds   \n",
       "2  3-{[(2S,3R,4S,5S,6R)-6-{[(3-carboxypropanoyl)o...                NaN   \n",
       "3  3-{[(3R,4S,5R,6R)-6-[(acetyloxy)methyl]-3,4,5-...                NaN   \n",
       "4  3-{[(3R,4S,5R,6R)-6-[(acetyloxy)methyl]-3,4,5-...                NaN   \n",
       "\n",
       "                         superklass       klass              subklass  \n",
       "0  Phenylpropanoids and polyketides  Flavonoids  Flavonoid glycosides  \n",
       "1  Phenylpropanoids and polyketides  Flavonoids  Flavonoid glycosides  \n",
       "2                               NaN         NaN                   NaN  \n",
       "3                               NaN         NaN                   NaN  \n",
       "4                               NaN         NaN                   NaN  "
      ]
     },
     "execution_count": 4,
     "metadata": {},
     "output_type": "execute_result"
    }
   ],
   "source": [
    "compounds=pd.read_csv('Data\\FooDB\\\\foodb_2020_4_7_csv\\\\foodb_2020_04_07_csv\\Compound.csv')\n",
    "compounds.head()"
   ]
  },
  {
   "cell_type": "code",
   "execution_count": 5,
   "metadata": {},
   "outputs": [
    {
     "data": {
      "text/plain": [
       "id                        0\n",
       "public_id                 0\n",
       "name                      0\n",
       "moldb_iupac           61610\n",
       "state                 47888\n",
       "annotation_quality    46827\n",
       "description           55248\n",
       "cas_number               64\n",
       "moldb_inchikey           62\n",
       "moldb_inchi              68\n",
       "moldb_smiles             62\n",
       "moldb_mono_mass       25246\n",
       "kingdom               66093\n",
       "superklass            66093\n",
       "klass                 66127\n",
       "subklass              66576\n",
       "dtype: int64"
      ]
     },
     "execution_count": 5,
     "metadata": {},
     "output_type": "execute_result"
    }
   ],
   "source": [
    "compounds.isna().sum()"
   ]
  },
  {
   "cell_type": "code",
   "execution_count": 6,
   "metadata": {},
   "outputs": [
    {
     "data": {
      "text/plain": [
       "id                      int64\n",
       "public_id              object\n",
       "name                   object\n",
       "moldb_iupac            object\n",
       "state                  object\n",
       "annotation_quality     object\n",
       "description            object\n",
       "cas_number             object\n",
       "moldb_inchikey         object\n",
       "moldb_inchi           float64\n",
       "moldb_smiles           object\n",
       "moldb_mono_mass        object\n",
       "kingdom                object\n",
       "superklass             object\n",
       "klass                  object\n",
       "subklass               object\n",
       "dtype: object"
      ]
     },
     "execution_count": 6,
     "metadata": {},
     "output_type": "execute_result"
    }
   ],
   "source": [
    "compounds.dtypes"
   ]
  },
  {
   "cell_type": "code",
   "execution_count": 7,
   "metadata": {},
   "outputs": [],
   "source": [
    "relevant_columns = ['id', 'name', 'moldb_smiles', 'moldb_inchikey', 'state', 'description']\n",
    "compounds_cleaned = compounds[relevant_columns]\n",
    "\n",
    "# Remove rows with missing SMILES or InChIKey\n",
    "compounds_cleaned = compounds_cleaned.dropna(subset=['moldb_smiles', 'moldb_inchikey'])\n",
    "\n",
    "# Fill missing values in state and description with 'Unknown'\n",
    "compounds_cleaned['state'] = compounds_cleaned['state'].fillna('Unknown')\n",
    "compounds_cleaned['description'] = compounds_cleaned['description'].fillna('Unknown')"
   ]
  },
  {
   "cell_type": "code",
   "execution_count": 8,
   "metadata": {},
   "outputs": [
    {
     "data": {
      "text/plain": [
       "id                0\n",
       "name              0\n",
       "moldb_smiles      0\n",
       "moldb_inchikey    0\n",
       "state             0\n",
       "description       0\n",
       "dtype: int64"
      ]
     },
     "execution_count": 8,
     "metadata": {},
     "output_type": "execute_result"
    }
   ],
   "source": [
    "compounds_cleaned.isna().sum()"
   ]
  },
  {
   "cell_type": "code",
   "execution_count": 9,
   "metadata": {},
   "outputs": [],
   "source": [
    "compounds_cleaned.to_csv('compounds_cleaned.csv', index=False)\n"
   ]
  },
  {
   "cell_type": "code",
   "execution_count": null,
   "metadata": {},
   "outputs": [],
   "source": []
  }
 ],
 "metadata": {
  "kernelspec": {
   "display_name": "Python 3",
   "language": "python",
   "name": "python3"
  },
  "language_info": {
   "codemirror_mode": {
    "name": "ipython",
    "version": 3
   },
   "file_extension": ".py",
   "mimetype": "text/x-python",
   "name": "python",
   "nbconvert_exporter": "python",
   "pygments_lexer": "ipython3",
   "version": "3.10.7"
  }
 },
 "nbformat": 4,
 "nbformat_minor": 2
}
