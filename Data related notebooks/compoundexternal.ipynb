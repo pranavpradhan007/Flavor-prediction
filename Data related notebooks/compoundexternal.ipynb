{
 "cells": [
  {
   "cell_type": "code",
   "execution_count": 1,
   "metadata": {},
   "outputs": [],
   "source": [
    "import pandas as pd"
   ]
  },
  {
   "cell_type": "code",
   "execution_count": 3,
   "metadata": {},
   "outputs": [
    {
     "data": {
      "text/html": [
       "<div>\n",
       "<style scoped>\n",
       "    .dataframe tbody tr th:only-of-type {\n",
       "        vertical-align: middle;\n",
       "    }\n",
       "\n",
       "    .dataframe tbody tr th {\n",
       "        vertical-align: top;\n",
       "    }\n",
       "\n",
       "    .dataframe thead th {\n",
       "        text-align: right;\n",
       "    }\n",
       "</style>\n",
       "<table border=\"1\" class=\"dataframe\">\n",
       "  <thead>\n",
       "    <tr style=\"text-align: right;\">\n",
       "      <th></th>\n",
       "      <th>id</th>\n",
       "      <th>external_id</th>\n",
       "      <th>annotations</th>\n",
       "      <th>compound_id</th>\n",
       "      <th>creator_id</th>\n",
       "      <th>updater_id</th>\n",
       "      <th>created_at</th>\n",
       "      <th>updated_at</th>\n",
       "    </tr>\n",
       "  </thead>\n",
       "  <tbody>\n",
       "    <tr>\n",
       "      <th>0</th>\n",
       "      <td>1</td>\n",
       "      <td>CHEBI:6584</td>\n",
       "      <td>anthocyanidin cation\\n</td>\n",
       "      <td>78</td>\n",
       "      <td>NaN</td>\n",
       "      <td>NaN</td>\n",
       "      <td>2015-02-23 22:40:02 UTC</td>\n",
       "      <td>2015-02-23 22:40:02 UTC</td>\n",
       "    </tr>\n",
       "    <tr>\n",
       "      <th>1</th>\n",
       "      <td>2</td>\n",
       "      <td>C08652</td>\n",
       "      <td>Anthocyanidins and anthocyanins\\n</td>\n",
       "      <td>78</td>\n",
       "      <td>NaN</td>\n",
       "      <td>NaN</td>\n",
       "      <td>2015-02-23 22:40:02 UTC</td>\n",
       "      <td>2015-02-23 22:40:02 UTC</td>\n",
       "    </tr>\n",
       "    <tr>\n",
       "      <th>2</th>\n",
       "      <td>3</td>\n",
       "      <td>CPD-11945</td>\n",
       "      <td>a small molecule\\n</td>\n",
       "      <td>78</td>\n",
       "      <td>NaN</td>\n",
       "      <td>NaN</td>\n",
       "      <td>2015-02-23 22:40:02 UTC</td>\n",
       "      <td>2015-02-23 22:40:02 UTC</td>\n",
       "    </tr>\n",
       "    <tr>\n",
       "      <th>3</th>\n",
       "      <td>4</td>\n",
       "      <td>LMPK12120534</td>\n",
       "      <td>Chalcones and dihydrochalcones\\n</td>\n",
       "      <td>87</td>\n",
       "      <td>NaN</td>\n",
       "      <td>NaN</td>\n",
       "      <td>2015-02-23 22:40:07 UTC</td>\n",
       "      <td>2015-02-23 22:40:07 UTC</td>\n",
       "    </tr>\n",
       "    <tr>\n",
       "      <th>4</th>\n",
       "      <td>5</td>\n",
       "      <td>CHEBI:76132</td>\n",
       "      <td>polyphenol\\ngallate ester\\ncatechin\\n</td>\n",
       "      <td>97</td>\n",
       "      <td>NaN</td>\n",
       "      <td>NaN</td>\n",
       "      <td>2015-02-23 22:40:09 UTC</td>\n",
       "      <td>2015-02-23 22:40:09 UTC</td>\n",
       "    </tr>\n",
       "  </tbody>\n",
       "</table>\n",
       "</div>"
      ],
      "text/plain": [
       "   id   external_id                            annotations  compound_id  \\\n",
       "0   1    CHEBI:6584                 anthocyanidin cation\\n           78   \n",
       "1   2        C08652      Anthocyanidins and anthocyanins\\n           78   \n",
       "2   3     CPD-11945                     a small molecule\\n           78   \n",
       "3   4  LMPK12120534       Chalcones and dihydrochalcones\\n           87   \n",
       "4   5   CHEBI:76132  polyphenol\\ngallate ester\\ncatechin\\n           97   \n",
       "\n",
       "   creator_id  updater_id               created_at               updated_at  \n",
       "0         NaN         NaN  2015-02-23 22:40:02 UTC  2015-02-23 22:40:02 UTC  \n",
       "1         NaN         NaN  2015-02-23 22:40:02 UTC  2015-02-23 22:40:02 UTC  \n",
       "2         NaN         NaN  2015-02-23 22:40:02 UTC  2015-02-23 22:40:02 UTC  \n",
       "3         NaN         NaN  2015-02-23 22:40:07 UTC  2015-02-23 22:40:07 UTC  \n",
       "4         NaN         NaN  2015-02-23 22:40:09 UTC  2015-02-23 22:40:09 UTC  "
      ]
     },
     "execution_count": 3,
     "metadata": {},
     "output_type": "execute_result"
    }
   ],
   "source": [
    "compoundexternal=pd.read_csv('Data\\FooDB\\\\foodb_2020_4_7_csv\\\\foodb_2020_04_07_csv\\CompoundExternalDescriptor.csv')\n",
    "compoundexternal.head()"
   ]
  },
  {
   "cell_type": "code",
   "execution_count": 4,
   "metadata": {},
   "outputs": [
    {
     "data": {
      "text/plain": [
       "id                0\n",
       "external_id       0\n",
       "annotations       0\n",
       "compound_id       0\n",
       "creator_id     4009\n",
       "updater_id     4009\n",
       "created_at        0\n",
       "updated_at        0\n",
       "dtype: int64"
      ]
     },
     "execution_count": 4,
     "metadata": {},
     "output_type": "execute_result"
    }
   ],
   "source": [
    "compoundexternal.isna().sum()"
   ]
  },
  {
   "cell_type": "code",
   "execution_count": 5,
   "metadata": {},
   "outputs": [
    {
     "data": {
      "text/plain": [
       "id               int64\n",
       "external_id     object\n",
       "annotations     object\n",
       "compound_id      int64\n",
       "creator_id     float64\n",
       "updater_id     float64\n",
       "created_at      object\n",
       "updated_at      object\n",
       "dtype: object"
      ]
     },
     "execution_count": 5,
     "metadata": {},
     "output_type": "execute_result"
    }
   ],
   "source": [
    "compoundexternal.dtypes"
   ]
  },
  {
   "cell_type": "code",
   "execution_count": 6,
   "metadata": {},
   "outputs": [],
   "source": [
    "# Select relevant columns\n",
    "relevant_columns = ['compound_id', 'external_id', 'annotations']\n",
    "compoundexternal_cleaned = compoundexternal[relevant_columns]\n",
    "\n",
    "# Remove rows with missing compound_id\n",
    "compoundexternal_cleaned = compoundexternal_cleaned.dropna(subset=['compound_id'])\n",
    "\n",
    "# Convert compound_id to integer\n",
    "compoundexternal_cleaned['compound_id'] = compoundexternal_cleaned['compound_id'].astype(int)\n",
    "\n",
    "# Fill missing values in external_id and annotations with 'Unknown'\n",
    "compoundexternal_cleaned['external_id'] = compoundexternal_cleaned['external_id'].fillna('Unknown')\n",
    "compoundexternal_cleaned['annotations'] = compoundexternal_cleaned['annotations'].fillna('Unknown')"
   ]
  },
  {
   "cell_type": "code",
   "execution_count": 7,
   "metadata": {},
   "outputs": [
    {
     "data": {
      "text/plain": [
       "compound_id    0\n",
       "external_id    0\n",
       "annotations    0\n",
       "dtype: int64"
      ]
     },
     "execution_count": 7,
     "metadata": {},
     "output_type": "execute_result"
    }
   ],
   "source": [
    "compoundexternal_cleaned.isna().sum()"
   ]
  },
  {
   "cell_type": "code",
   "execution_count": 8,
   "metadata": {},
   "outputs": [],
   "source": [
    "compoundexternal_cleaned.to_csv('CompoundExternalDescriptor_cleaned.csv', index=False)"
   ]
  },
  {
   "cell_type": "code",
   "execution_count": null,
   "metadata": {},
   "outputs": [],
   "source": []
  }
 ],
 "metadata": {
  "kernelspec": {
   "display_name": "Python 3",
   "language": "python",
   "name": "python3"
  },
  "language_info": {
   "codemirror_mode": {
    "name": "ipython",
    "version": 3
   },
   "file_extension": ".py",
   "mimetype": "text/x-python",
   "name": "python",
   "nbconvert_exporter": "python",
   "pygments_lexer": "ipython3",
   "version": "3.10.7"
  }
 },
 "nbformat": 4,
 "nbformat_minor": 2
}
