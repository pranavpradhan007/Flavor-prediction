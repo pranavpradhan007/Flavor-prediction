{
 "cells": [
  {
   "cell_type": "code",
   "execution_count": 1,
   "metadata": {},
   "outputs": [],
   "source": [
    "import pandas as pd"
   ]
  },
  {
   "cell_type": "code",
   "execution_count": 2,
   "metadata": {},
   "outputs": [],
   "source": [
    "compoundsfalvours=pd.read_csv('Data\\FooDB\\\\foodb_2020_4_7_csv\\\\foodb_2020_04_07_csv\\CompoundsFlavor.csv')"
   ]
  },
  {
   "cell_type": "code",
   "execution_count": 3,
   "metadata": {},
   "outputs": [
    {
     "data": {
      "text/html": [
       "<div>\n",
       "<style scoped>\n",
       "    .dataframe tbody tr th:only-of-type {\n",
       "        vertical-align: middle;\n",
       "    }\n",
       "\n",
       "    .dataframe tbody tr th {\n",
       "        vertical-align: top;\n",
       "    }\n",
       "\n",
       "    .dataframe thead th {\n",
       "        text-align: right;\n",
       "    }\n",
       "</style>\n",
       "<table border=\"1\" class=\"dataframe\">\n",
       "  <thead>\n",
       "    <tr style=\"text-align: right;\">\n",
       "      <th></th>\n",
       "      <th>id</th>\n",
       "      <th>compound_id</th>\n",
       "      <th>flavor_id</th>\n",
       "      <th>citations</th>\n",
       "      <th>created_at</th>\n",
       "      <th>updated_at</th>\n",
       "      <th>creator_id</th>\n",
       "      <th>updater_id</th>\n",
       "      <th>source_id</th>\n",
       "      <th>source_type</th>\n",
       "    </tr>\n",
       "  </thead>\n",
       "  <tbody>\n",
       "    <tr>\n",
       "      <th>0</th>\n",
       "      <td>1</td>\n",
       "      <td>11947</td>\n",
       "      <td>159</td>\n",
       "      <td># Arn, H, Acree TE. “Flavornet: A database of ...</td>\n",
       "      <td>2011-10-02 06:30:05 UTC</td>\n",
       "      <td>2015-10-23 23:29:45 UTC</td>\n",
       "      <td>NaN</td>\n",
       "      <td>NaN</td>\n",
       "      <td>11947</td>\n",
       "      <td>Compound</td>\n",
       "    </tr>\n",
       "    <tr>\n",
       "      <th>1</th>\n",
       "      <td>2</td>\n",
       "      <td>8298</td>\n",
       "      <td>213</td>\n",
       "      <td># Arn, H, Acree TE. “Flavornet: A database of ...</td>\n",
       "      <td>2011-10-02 06:30:05 UTC</td>\n",
       "      <td>2015-10-23 23:29:56 UTC</td>\n",
       "      <td>NaN</td>\n",
       "      <td>NaN</td>\n",
       "      <td>8298</td>\n",
       "      <td>Compound</td>\n",
       "    </tr>\n",
       "    <tr>\n",
       "      <th>2</th>\n",
       "      <td>3</td>\n",
       "      <td>8298</td>\n",
       "      <td>156</td>\n",
       "      <td># Arn, H, Acree TE. “Flavornet: A database of ...</td>\n",
       "      <td>2011-10-02 06:30:05 UTC</td>\n",
       "      <td>2015-10-23 23:29:45 UTC</td>\n",
       "      <td>NaN</td>\n",
       "      <td>NaN</td>\n",
       "      <td>8298</td>\n",
       "      <td>Compound</td>\n",
       "    </tr>\n",
       "    <tr>\n",
       "      <th>3</th>\n",
       "      <td>4</td>\n",
       "      <td>11889</td>\n",
       "      <td>231</td>\n",
       "      <td># Arn, H, Acree TE. “Flavornet: A database of ...</td>\n",
       "      <td>2011-10-02 06:30:05 UTC</td>\n",
       "      <td>2015-10-23 23:29:45 UTC</td>\n",
       "      <td>NaN</td>\n",
       "      <td>NaN</td>\n",
       "      <td>11889</td>\n",
       "      <td>Compound</td>\n",
       "    </tr>\n",
       "    <tr>\n",
       "      <th>4</th>\n",
       "      <td>5</td>\n",
       "      <td>11889</td>\n",
       "      <td>166</td>\n",
       "      <td># Arn, H, Acree TE. “Flavornet: A database of ...</td>\n",
       "      <td>2011-10-02 06:30:06 UTC</td>\n",
       "      <td>2015-10-23 23:29:45 UTC</td>\n",
       "      <td>NaN</td>\n",
       "      <td>NaN</td>\n",
       "      <td>11889</td>\n",
       "      <td>Compound</td>\n",
       "    </tr>\n",
       "  </tbody>\n",
       "</table>\n",
       "</div>"
      ],
      "text/plain": [
       "   id  compound_id  flavor_id  \\\n",
       "0   1        11947        159   \n",
       "1   2         8298        213   \n",
       "2   3         8298        156   \n",
       "3   4        11889        231   \n",
       "4   5        11889        166   \n",
       "\n",
       "                                           citations               created_at  \\\n",
       "0  # Arn, H, Acree TE. “Flavornet: A database of ...  2011-10-02 06:30:05 UTC   \n",
       "1  # Arn, H, Acree TE. “Flavornet: A database of ...  2011-10-02 06:30:05 UTC   \n",
       "2  # Arn, H, Acree TE. “Flavornet: A database of ...  2011-10-02 06:30:05 UTC   \n",
       "3  # Arn, H, Acree TE. “Flavornet: A database of ...  2011-10-02 06:30:05 UTC   \n",
       "4  # Arn, H, Acree TE. “Flavornet: A database of ...  2011-10-02 06:30:06 UTC   \n",
       "\n",
       "                updated_at  creator_id  updater_id  source_id source_type  \n",
       "0  2015-10-23 23:29:45 UTC         NaN         NaN      11947    Compound  \n",
       "1  2015-10-23 23:29:56 UTC         NaN         NaN       8298    Compound  \n",
       "2  2015-10-23 23:29:45 UTC         NaN         NaN       8298    Compound  \n",
       "3  2015-10-23 23:29:45 UTC         NaN         NaN      11889    Compound  \n",
       "4  2015-10-23 23:29:45 UTC         NaN         NaN      11889    Compound  "
      ]
     },
     "execution_count": 3,
     "metadata": {},
     "output_type": "execute_result"
    }
   ],
   "source": [
    "compoundsfalvours.head()"
   ]
  },
  {
   "cell_type": "code",
   "execution_count": 4,
   "metadata": {},
   "outputs": [
    {
     "data": {
      "text/plain": [
       "id                 0\n",
       "compound_id        0\n",
       "flavor_id          0\n",
       "citations          0\n",
       "created_at         0\n",
       "updated_at         0\n",
       "creator_id     11768\n",
       "updater_id     11758\n",
       "source_id          0\n",
       "source_type        0\n",
       "dtype: int64"
      ]
     },
     "execution_count": 4,
     "metadata": {},
     "output_type": "execute_result"
    }
   ],
   "source": [
    "compoundsfalvours.isna().sum()"
   ]
  },
  {
   "cell_type": "code",
   "execution_count": 5,
   "metadata": {},
   "outputs": [
    {
     "data": {
      "text/plain": [
       "id               int64\n",
       "compound_id      int64\n",
       "flavor_id        int64\n",
       "citations       object\n",
       "created_at      object\n",
       "updated_at      object\n",
       "creator_id     float64\n",
       "updater_id     float64\n",
       "source_id        int64\n",
       "source_type     object\n",
       "dtype: object"
      ]
     },
     "execution_count": 5,
     "metadata": {},
     "output_type": "execute_result"
    }
   ],
   "source": [
    "compoundsfalvours.dtypes"
   ]
  },
  {
   "cell_type": "code",
   "execution_count": 6,
   "metadata": {},
   "outputs": [],
   "source": [
    "relevant_columns = ['compound_id', 'flavor_id']\n",
    "compoundsflavours_cleaned = compoundsfalvours[relevant_columns]\n",
    "\n",
    "# Remove rows with missing compound_id or flavor_id\n",
    "compoundsflavours_cleaned = compoundsflavours_cleaned.dropna(subset=['compound_id', 'flavor_id'])\n",
    "\n",
    "# Convert compound_id and flavor_id to integer\n",
    "compoundsflavours_cleaned['compound_id'] = compoundsflavours_cleaned['compound_id'].astype(int)\n",
    "compoundsflavours_cleaned['flavor_id'] = compoundsflavours_cleaned['flavor_id'].astype(int)"
   ]
  },
  {
   "cell_type": "code",
   "execution_count": 8,
   "metadata": {},
   "outputs": [
    {
     "data": {
      "text/plain": [
       "compound_id    0\n",
       "flavor_id      0\n",
       "dtype: int64"
      ]
     },
     "execution_count": 8,
     "metadata": {},
     "output_type": "execute_result"
    }
   ],
   "source": [
    "compoundsflavours_cleaned.isna().sum()"
   ]
  },
  {
   "cell_type": "code",
   "execution_count": 9,
   "metadata": {},
   "outputs": [],
   "source": [
    "compoundsflavours_cleaned.to_csv('compoundsflavours_cleaned.csv', index=False)"
   ]
  },
  {
   "cell_type": "code",
   "execution_count": null,
   "metadata": {},
   "outputs": [],
   "source": []
  }
 ],
 "metadata": {
  "kernelspec": {
   "display_name": "Python 3",
   "language": "python",
   "name": "python3"
  },
  "language_info": {
   "codemirror_mode": {
    "name": "ipython",
    "version": 3
   },
   "file_extension": ".py",
   "mimetype": "text/x-python",
   "name": "python",
   "nbconvert_exporter": "python",
   "pygments_lexer": "ipython3",
   "version": "3.10.7"
  }
 },
 "nbformat": 4,
 "nbformat_minor": 2
}
