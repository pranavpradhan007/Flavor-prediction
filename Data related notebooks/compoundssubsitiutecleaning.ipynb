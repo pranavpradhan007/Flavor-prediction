{
 "cells": [
  {
   "cell_type": "code",
   "execution_count": 1,
   "metadata": {},
   "outputs": [],
   "source": [
    "import pandas as pd"
   ]
  },
  {
   "cell_type": "code",
   "execution_count": 2,
   "metadata": {},
   "outputs": [
    {
     "data": {
      "text/html": [
       "<div>\n",
       "<style scoped>\n",
       "    .dataframe tbody tr th:only-of-type {\n",
       "        vertical-align: middle;\n",
       "    }\n",
       "\n",
       "    .dataframe tbody tr th {\n",
       "        vertical-align: top;\n",
       "    }\n",
       "\n",
       "    .dataframe thead th {\n",
       "        text-align: right;\n",
       "    }\n",
       "</style>\n",
       "<table border=\"1\" class=\"dataframe\">\n",
       "  <thead>\n",
       "    <tr style=\"text-align: right;\">\n",
       "      <th></th>\n",
       "      <th>id</th>\n",
       "      <th>name</th>\n",
       "      <th>compound_id</th>\n",
       "      <th>creator_id</th>\n",
       "      <th>updater_id</th>\n",
       "      <th>created_at</th>\n",
       "      <th>updated_at</th>\n",
       "    </tr>\n",
       "  </thead>\n",
       "  <tbody>\n",
       "    <tr>\n",
       "      <th>0</th>\n",
       "      <td>1</td>\n",
       "      <td>2-arylbenzofuran flavonoid</td>\n",
       "      <td>1</td>\n",
       "      <td>NaN</td>\n",
       "      <td>NaN</td>\n",
       "      <td>2015-02-23 22:39:46 UTC</td>\n",
       "      <td>2015-02-23 22:39:46 UTC</td>\n",
       "    </tr>\n",
       "    <tr>\n",
       "      <th>1</th>\n",
       "      <td>2</td>\n",
       "      <td>Hydroxyflavonoid</td>\n",
       "      <td>1</td>\n",
       "      <td>NaN</td>\n",
       "      <td>NaN</td>\n",
       "      <td>2015-02-23 22:39:46 UTC</td>\n",
       "      <td>2015-02-23 22:39:46 UTC</td>\n",
       "    </tr>\n",
       "    <tr>\n",
       "      <th>2</th>\n",
       "      <td>3</td>\n",
       "      <td>7-hydroxyflavonoid</td>\n",
       "      <td>1</td>\n",
       "      <td>NaN</td>\n",
       "      <td>NaN</td>\n",
       "      <td>2015-02-23 22:39:46 UTC</td>\n",
       "      <td>2015-02-23 22:39:46 UTC</td>\n",
       "    </tr>\n",
       "    <tr>\n",
       "      <th>3</th>\n",
       "      <td>4</td>\n",
       "      <td>5-hydroxyflavonoid</td>\n",
       "      <td>1</td>\n",
       "      <td>NaN</td>\n",
       "      <td>NaN</td>\n",
       "      <td>2015-02-23 22:39:46 UTC</td>\n",
       "      <td>2015-02-23 22:39:46 UTC</td>\n",
       "    </tr>\n",
       "    <tr>\n",
       "      <th>4</th>\n",
       "      <td>5</td>\n",
       "      <td>4'-hydroxyflavonoid</td>\n",
       "      <td>1</td>\n",
       "      <td>NaN</td>\n",
       "      <td>NaN</td>\n",
       "      <td>2015-02-23 22:39:46 UTC</td>\n",
       "      <td>2015-02-23 22:39:46 UTC</td>\n",
       "    </tr>\n",
       "  </tbody>\n",
       "</table>\n",
       "</div>"
      ],
      "text/plain": [
       "   id                        name  compound_id  creator_id  updater_id  \\\n",
       "0   1  2-arylbenzofuran flavonoid            1         NaN         NaN   \n",
       "1   2            Hydroxyflavonoid            1         NaN         NaN   \n",
       "2   3          7-hydroxyflavonoid            1         NaN         NaN   \n",
       "3   4          5-hydroxyflavonoid            1         NaN         NaN   \n",
       "4   5         4'-hydroxyflavonoid            1         NaN         NaN   \n",
       "\n",
       "                created_at               updated_at  \n",
       "0  2015-02-23 22:39:46 UTC  2015-02-23 22:39:46 UTC  \n",
       "1  2015-02-23 22:39:46 UTC  2015-02-23 22:39:46 UTC  \n",
       "2  2015-02-23 22:39:46 UTC  2015-02-23 22:39:46 UTC  \n",
       "3  2015-02-23 22:39:46 UTC  2015-02-23 22:39:46 UTC  \n",
       "4  2015-02-23 22:39:46 UTC  2015-02-23 22:39:46 UTC  "
      ]
     },
     "execution_count": 2,
     "metadata": {},
     "output_type": "execute_result"
    }
   ],
   "source": [
    "compoundssubstitute=pd.read_csv('Data\\FooDB\\\\foodb_2020_4_7_csv\\\\foodb_2020_04_07_csv\\CompoundSubstituent.csv')\n",
    "compoundssubstitute.head()"
   ]
  },
  {
   "cell_type": "code",
   "execution_count": 7,
   "metadata": {},
   "outputs": [
    {
     "data": {
      "text/plain": [
       "id                 0\n",
       "name               2\n",
       "compound_id        0\n",
       "creator_id     95299\n",
       "updater_id     95299\n",
       "created_at         0\n",
       "updated_at         0\n",
       "dtype: int64"
      ]
     },
     "execution_count": 7,
     "metadata": {},
     "output_type": "execute_result"
    }
   ],
   "source": [
    "compoundssubstitute.isna().sum()"
   ]
  },
  {
   "cell_type": "code",
   "execution_count": 6,
   "metadata": {},
   "outputs": [
    {
     "data": {
      "text/plain": [
       "id               int64\n",
       "name            object\n",
       "compound_id      int64\n",
       "creator_id     float64\n",
       "updater_id     float64\n",
       "created_at      object\n",
       "updated_at      object\n",
       "dtype: object"
      ]
     },
     "execution_count": 6,
     "metadata": {},
     "output_type": "execute_result"
    }
   ],
   "source": [
    "compoundssubstitute.dtypes"
   ]
  },
  {
   "cell_type": "code",
   "execution_count": 5,
   "metadata": {},
   "outputs": [],
   "source": [
    "relevant_columns = ['compound_id', 'name']\n",
    "compoundsubstitute_cleaned = compoundssubstitute[relevant_columns]\n",
    "\n",
    "# Remove rows with missing compound_id\n",
    "compoundsubstitute_cleaned = compoundsubstitute_cleaned.dropna(subset=['compound_id'])\n",
    "\n",
    "# Convert compound_id to integer\n",
    "compoundsubstitute_cleaned['compound_id'] = compoundsubstitute_cleaned['compound_id'].astype(int)\n",
    "\n",
    "# Fill missing values in name with 'Unknown'\n",
    "compoundsubstitute_cleaned['name'] = compoundsubstitute_cleaned['name'].fillna('Unknown')\n",
    "\n",
    "# Save the cleaned dataset\n",
    "compoundsubstitute_cleaned.to_csv('compoundsubstitute_cleaned.csv', index=False)"
   ]
  },
  {
   "cell_type": "code",
   "execution_count": null,
   "metadata": {},
   "outputs": [],
   "source": []
  }
 ],
 "metadata": {
  "kernelspec": {
   "display_name": "Python 3",
   "language": "python",
   "name": "python3"
  },
  "language_info": {
   "codemirror_mode": {
    "name": "ipython",
    "version": 3
   },
   "file_extension": ".py",
   "mimetype": "text/x-python",
   "name": "python",
   "nbconvert_exporter": "python",
   "pygments_lexer": "ipython3",
   "version": "3.10.7"
  }
 },
 "nbformat": 4,
 "nbformat_minor": 2
}
