{
 "cells": [
  {
   "cell_type": "code",
   "execution_count": 1,
   "metadata": {},
   "outputs": [],
   "source": [
    "import pandas as pd"
   ]
  },
  {
   "cell_type": "code",
   "execution_count": 2,
   "metadata": {},
   "outputs": [
    {
     "data": {
      "text/html": [
       "<div>\n",
       "<style scoped>\n",
       "    .dataframe tbody tr th:only-of-type {\n",
       "        vertical-align: middle;\n",
       "    }\n",
       "\n",
       "    .dataframe tbody tr th {\n",
       "        vertical-align: top;\n",
       "    }\n",
       "\n",
       "    .dataframe thead th {\n",
       "        text-align: right;\n",
       "    }\n",
       "</style>\n",
       "<table border=\"1\" class=\"dataframe\">\n",
       "  <thead>\n",
       "    <tr style=\"text-align: right;\">\n",
       "      <th></th>\n",
       "      <th>id</th>\n",
       "      <th>synonym</th>\n",
       "      <th>synonym_source</th>\n",
       "      <th>created_at</th>\n",
       "      <th>updated_at</th>\n",
       "      <th>source_id</th>\n",
       "      <th>source_type</th>\n",
       "    </tr>\n",
       "  </thead>\n",
       "  <tbody>\n",
       "    <tr>\n",
       "      <th>0</th>\n",
       "      <td>105128</td>\n",
       "      <td>-(+)-biotin</td>\n",
       "      <td>biospider</td>\n",
       "      <td>2010-04-09 17:45:24 UTC</td>\n",
       "      <td>2014-11-05 14:52:52 UTC</td>\n",
       "      <td>14513</td>\n",
       "      <td>Compound</td>\n",
       "    </tr>\n",
       "    <tr>\n",
       "      <th>1</th>\n",
       "      <td>74513</td>\n",
       "      <td>-(2-Nitrovinyl)anisole</td>\n",
       "      <td>biospider</td>\n",
       "      <td>2010-04-09 17:43:50 UTC</td>\n",
       "      <td>2014-11-05 14:52:52 UTC</td>\n",
       "      <td>10534</td>\n",
       "      <td>Compound</td>\n",
       "    </tr>\n",
       "    <tr>\n",
       "      <th>2</th>\n",
       "      <td>74514</td>\n",
       "      <td>-(4-Methoxyphenyl)-2-nitroethene</td>\n",
       "      <td>biospider</td>\n",
       "      <td>2010-04-09 17:43:50 UTC</td>\n",
       "      <td>2014-11-05 14:52:52 UTC</td>\n",
       "      <td>10534</td>\n",
       "      <td>Compound</td>\n",
       "    </tr>\n",
       "    <tr>\n",
       "      <th>3</th>\n",
       "      <td>201184</td>\n",
       "      <td>-1,3-propanediamine</td>\n",
       "      <td>hmdb</td>\n",
       "      <td>2011-09-24 00:52:31 UTC</td>\n",
       "      <td>2014-11-05 14:52:52 UTC</td>\n",
       "      <td>28495</td>\n",
       "      <td>Compound</td>\n",
       "    </tr>\n",
       "    <tr>\n",
       "      <th>4</th>\n",
       "      <td>85114</td>\n",
       "      <td>-acetylguaiacol</td>\n",
       "      <td>biospider</td>\n",
       "      <td>2010-04-09 17:44:23 UTC</td>\n",
       "      <td>2014-11-05 14:52:52 UTC</td>\n",
       "      <td>12058</td>\n",
       "      <td>Compound</td>\n",
       "    </tr>\n",
       "  </tbody>\n",
       "</table>\n",
       "</div>"
      ],
      "text/plain": [
       "       id                           synonym synonym_source  \\\n",
       "0  105128                       -(+)-biotin      biospider   \n",
       "1   74513            -(2-Nitrovinyl)anisole      biospider   \n",
       "2   74514  -(4-Methoxyphenyl)-2-nitroethene      biospider   \n",
       "3  201184               -1,3-propanediamine           hmdb   \n",
       "4   85114                   -acetylguaiacol      biospider   \n",
       "\n",
       "                created_at               updated_at  source_id source_type  \n",
       "0  2010-04-09 17:45:24 UTC  2014-11-05 14:52:52 UTC      14513    Compound  \n",
       "1  2010-04-09 17:43:50 UTC  2014-11-05 14:52:52 UTC      10534    Compound  \n",
       "2  2010-04-09 17:43:50 UTC  2014-11-05 14:52:52 UTC      10534    Compound  \n",
       "3  2011-09-24 00:52:31 UTC  2014-11-05 14:52:52 UTC      28495    Compound  \n",
       "4  2010-04-09 17:44:23 UTC  2014-11-05 14:52:52 UTC      12058    Compound  "
      ]
     },
     "execution_count": 2,
     "metadata": {},
     "output_type": "execute_result"
    }
   ],
   "source": [
    "compoundsynonym=pd.read_csv('Data\\FooDB\\\\foodb_2020_4_7_csv\\\\foodb_2020_04_07_csv\\CompoundSynonym.csv')\n",
    "compoundsynonym.head()"
   ]
  },
  {
   "cell_type": "code",
   "execution_count": 3,
   "metadata": {},
   "outputs": [
    {
     "data": {
      "text/plain": [
       "id                0\n",
       "synonym           0\n",
       "synonym_source    0\n",
       "created_at        0\n",
       "updated_at        0\n",
       "source_id         0\n",
       "source_type       0\n",
       "dtype: int64"
      ]
     },
     "execution_count": 3,
     "metadata": {},
     "output_type": "execute_result"
    }
   ],
   "source": [
    "compoundsynonym.isna().sum()"
   ]
  },
  {
   "cell_type": "code",
   "execution_count": 4,
   "metadata": {},
   "outputs": [
    {
     "name": "stderr",
     "output_type": "stream",
     "text": [
      "C:\\Users\\hp\\AppData\\Local\\Temp\\ipykernel_16032\\2028571148.py:3: SettingWithCopyWarning: \n",
      "A value is trying to be set on a copy of a slice from a DataFrame.\n",
      "Try using .loc[row_indexer,col_indexer] = value instead\n",
      "\n",
      "See the caveats in the documentation: https://pandas.pydata.org/pandas-docs/stable/user_guide/indexing.html#returning-a-view-versus-a-copy\n",
      "  compoundsynonym_cleaned['id']=compoundsynonym_cleaned['id'].astype(int)\n"
     ]
    }
   ],
   "source": [
    "relevant_columns=['id', 'synonym']\n",
    "compoundsynonym_cleaned=compoundsynonym[relevant_columns]\n",
    "compoundsynonym_cleaned['id']=compoundsynonym_cleaned['id'].astype(int)\n",
    "compoundsynonym_cleaned.to_csv('compoundsynonym_cleaned.csv', index=False)"
   ]
  },
  {
   "cell_type": "code",
   "execution_count": 5,
   "metadata": {},
   "outputs": [
    {
     "data": {
      "text/plain": [
       "id          int32\n",
       "synonym    object\n",
       "dtype: object"
      ]
     },
     "execution_count": 5,
     "metadata": {},
     "output_type": "execute_result"
    }
   ],
   "source": [
    "compoundsynonym_cleaned.dtypes"
   ]
  },
  {
   "cell_type": "code",
   "execution_count": null,
   "metadata": {},
   "outputs": [],
   "source": []
  }
 ],
 "metadata": {
  "kernelspec": {
   "display_name": "Python 3",
   "language": "python",
   "name": "python3"
  },
  "language_info": {
   "codemirror_mode": {
    "name": "ipython",
    "version": 3
   },
   "file_extension": ".py",
   "mimetype": "text/x-python",
   "name": "python",
   "nbconvert_exporter": "python",
   "pygments_lexer": "ipython3",
   "version": "3.10.7"
  }
 },
 "nbformat": 4,
 "nbformat_minor": 2
}
