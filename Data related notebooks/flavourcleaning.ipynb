{
 "cells": [
  {
   "cell_type": "code",
   "execution_count": 1,
   "metadata": {},
   "outputs": [],
   "source": [
    "import pandas as pd"
   ]
  },
  {
   "cell_type": "code",
   "execution_count": 2,
   "metadata": {},
   "outputs": [
    {
     "data": {
      "text/html": [
       "<div>\n",
       "<style scoped>\n",
       "    .dataframe tbody tr th:only-of-type {\n",
       "        vertical-align: middle;\n",
       "    }\n",
       "\n",
       "    .dataframe tbody tr th {\n",
       "        vertical-align: top;\n",
       "    }\n",
       "\n",
       "    .dataframe thead th {\n",
       "        text-align: right;\n",
       "    }\n",
       "</style>\n",
       "<table border=\"1\" class=\"dataframe\">\n",
       "  <thead>\n",
       "    <tr style=\"text-align: right;\">\n",
       "      <th></th>\n",
       "      <th>id</th>\n",
       "      <th>name</th>\n",
       "      <th>flavor_group</th>\n",
       "      <th>category</th>\n",
       "      <th>created_at</th>\n",
       "      <th>updated_at</th>\n",
       "      <th>creator_id</th>\n",
       "      <th>updater_id</th>\n",
       "    </tr>\n",
       "  </thead>\n",
       "  <tbody>\n",
       "    <tr>\n",
       "      <th>0</th>\n",
       "      <td>1</td>\n",
       "      <td>celery</td>\n",
       "      <td>vegetable</td>\n",
       "      <td>odor</td>\n",
       "      <td>2011-10-02 06:10:04 UTC</td>\n",
       "      <td>2011-10-02 06:10:04 UTC</td>\n",
       "      <td>NaN</td>\n",
       "      <td>NaN</td>\n",
       "    </tr>\n",
       "    <tr>\n",
       "      <th>1</th>\n",
       "      <td>2</td>\n",
       "      <td>corn</td>\n",
       "      <td>vegetable</td>\n",
       "      <td>odor</td>\n",
       "      <td>2011-10-02 06:10:04 UTC</td>\n",
       "      <td>2011-10-02 06:10:04 UTC</td>\n",
       "      <td>NaN</td>\n",
       "      <td>NaN</td>\n",
       "    </tr>\n",
       "    <tr>\n",
       "      <th>2</th>\n",
       "      <td>3</td>\n",
       "      <td>cucumber</td>\n",
       "      <td>vegetable</td>\n",
       "      <td>odor</td>\n",
       "      <td>2011-10-02 06:10:04 UTC</td>\n",
       "      <td>2011-10-02 06:10:04 UTC</td>\n",
       "      <td>NaN</td>\n",
       "      <td>NaN</td>\n",
       "    </tr>\n",
       "    <tr>\n",
       "      <th>3</th>\n",
       "      <td>4</td>\n",
       "      <td>horseradish</td>\n",
       "      <td>vegetable</td>\n",
       "      <td>odor</td>\n",
       "      <td>2011-10-02 06:10:05 UTC</td>\n",
       "      <td>2011-10-02 06:10:05 UTC</td>\n",
       "      <td>NaN</td>\n",
       "      <td>NaN</td>\n",
       "    </tr>\n",
       "    <tr>\n",
       "      <th>4</th>\n",
       "      <td>5</td>\n",
       "      <td>vegetable</td>\n",
       "      <td>vegetable</td>\n",
       "      <td>odor</td>\n",
       "      <td>2011-10-02 06:10:05 UTC</td>\n",
       "      <td>2011-10-02 06:10:05 UTC</td>\n",
       "      <td>NaN</td>\n",
       "      <td>NaN</td>\n",
       "    </tr>\n",
       "  </tbody>\n",
       "</table>\n",
       "</div>"
      ],
      "text/plain": [
       "   id         name flavor_group category               created_at  \\\n",
       "0   1       celery    vegetable     odor  2011-10-02 06:10:04 UTC   \n",
       "1   2         corn    vegetable     odor  2011-10-02 06:10:04 UTC   \n",
       "2   3     cucumber    vegetable     odor  2011-10-02 06:10:04 UTC   \n",
       "3   4  horseradish    vegetable     odor  2011-10-02 06:10:05 UTC   \n",
       "4   5    vegetable    vegetable     odor  2011-10-02 06:10:05 UTC   \n",
       "\n",
       "                updated_at  creator_id  updater_id  \n",
       "0  2011-10-02 06:10:04 UTC         NaN         NaN  \n",
       "1  2011-10-02 06:10:04 UTC         NaN         NaN  \n",
       "2  2011-10-02 06:10:04 UTC         NaN         NaN  \n",
       "3  2011-10-02 06:10:05 UTC         NaN         NaN  \n",
       "4  2011-10-02 06:10:05 UTC         NaN         NaN  "
      ]
     },
     "execution_count": 2,
     "metadata": {},
     "output_type": "execute_result"
    }
   ],
   "source": [
    "flavour=pd.read_csv('Data\\FooDB\\\\foodb_2020_4_7_csv\\\\foodb_2020_04_07_csv\\Flavor.csv')\n",
    "flavour.head()"
   ]
  },
  {
   "cell_type": "code",
   "execution_count": 3,
   "metadata": {},
   "outputs": [
    {
     "data": {
      "text/plain": [
       "id                0\n",
       "name              0\n",
       "flavor_group    770\n",
       "category          0\n",
       "created_at        0\n",
       "updated_at        0\n",
       "creator_id      882\n",
       "updater_id      881\n",
       "dtype: int64"
      ]
     },
     "execution_count": 3,
     "metadata": {},
     "output_type": "execute_result"
    }
   ],
   "source": [
    "flavour.isna().sum()"
   ]
  },
  {
   "cell_type": "code",
   "execution_count": 4,
   "metadata": {},
   "outputs": [
    {
     "data": {
      "text/plain": [
       "id                int64\n",
       "name             object\n",
       "flavor_group     object\n",
       "category         object\n",
       "created_at       object\n",
       "updated_at       object\n",
       "creator_id      float64\n",
       "updater_id      float64\n",
       "dtype: object"
      ]
     },
     "execution_count": 4,
     "metadata": {},
     "output_type": "execute_result"
    }
   ],
   "source": [
    "flavour.dtypes"
   ]
  },
  {
   "cell_type": "code",
   "execution_count": 5,
   "metadata": {},
   "outputs": [
    {
     "name": "stdout",
     "output_type": "stream",
     "text": [
      "Cleaned flavour dataset saved with 883 entries.\n",
      "\n",
      "Missing value summary:\n",
      "id              0\n",
      "name            0\n",
      "flavor_group    0\n",
      "category        0\n",
      "dtype: int64\n"
     ]
    },
    {
     "name": "stderr",
     "output_type": "stream",
     "text": [
      "C:\\Users\\hp\\AppData\\Local\\Temp\\ipykernel_2748\\3918555741.py:5: SettingWithCopyWarning: \n",
      "A value is trying to be set on a copy of a slice from a DataFrame.\n",
      "Try using .loc[row_indexer,col_indexer] = value instead\n",
      "\n",
      "See the caveats in the documentation: https://pandas.pydata.org/pandas-docs/stable/user_guide/indexing.html#returning-a-view-versus-a-copy\n",
      "  flavour_cleaned['flavor_group'] = flavour_cleaned['flavor_group'].fillna('Unknown')\n",
      "C:\\Users\\hp\\AppData\\Local\\Temp\\ipykernel_2748\\3918555741.py:8: SettingWithCopyWarning: \n",
      "A value is trying to be set on a copy of a slice from a DataFrame.\n",
      "Try using .loc[row_indexer,col_indexer] = value instead\n",
      "\n",
      "See the caveats in the documentation: https://pandas.pydata.org/pandas-docs/stable/user_guide/indexing.html#returning-a-view-versus-a-copy\n",
      "  flavour_cleaned['id'] = flavour_cleaned['id'].astype(int)\n"
     ]
    }
   ],
   "source": [
    "relevant_columns = ['id', 'name', 'flavor_group', 'category']\n",
    "flavour_cleaned = flavour[relevant_columns]\n",
    "\n",
    "# Fill missing values in flavor_group with 'Unknown'\n",
    "flavour_cleaned['flavor_group'] = flavour_cleaned['flavor_group'].fillna('Unknown')\n",
    "\n",
    "# Ensure id is an integer\n",
    "flavour_cleaned['id'] = flavour_cleaned['id'].astype(int)\n",
    "\n",
    "# Save the cleaned dataset\n",
    "flavour_cleaned.to_csv('flavour_cleaned.csv', index=False)\n",
    "\n",
    "print(f\"Cleaned flavour dataset saved with {len(flavour_cleaned)} entries.\")\n",
    "print(\"\\nMissing value summary:\")\n",
    "print(flavour_cleaned.isna().sum())"
   ]
  },
  {
   "cell_type": "code",
   "execution_count": null,
   "metadata": {},
   "outputs": [],
   "source": []
  }
 ],
 "metadata": {
  "kernelspec": {
   "display_name": "Python 3",
   "language": "python",
   "name": "python3"
  },
  "language_info": {
   "codemirror_mode": {
    "name": "ipython",
    "version": 3
   },
   "file_extension": ".py",
   "mimetype": "text/x-python",
   "name": "python",
   "nbconvert_exporter": "python",
   "pygments_lexer": "ipython3",
   "version": "3.10.7"
  }
 },
 "nbformat": 4,
 "nbformat_minor": 2
}
