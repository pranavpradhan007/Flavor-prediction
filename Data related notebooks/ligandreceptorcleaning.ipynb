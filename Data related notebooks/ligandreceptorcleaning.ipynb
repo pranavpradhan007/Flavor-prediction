{
 "cells": [
  {
   "cell_type": "code",
   "execution_count": 1,
   "metadata": {},
   "outputs": [],
   "source": [
    "import pandas as pd"
   ]
  },
  {
   "cell_type": "code",
   "execution_count": 2,
   "metadata": {},
   "outputs": [
    {
     "data": {
      "text/html": [
       "<div>\n",
       "<style scoped>\n",
       "    .dataframe tbody tr th:only-of-type {\n",
       "        vertical-align: middle;\n",
       "    }\n",
       "\n",
       "    .dataframe tbody tr th {\n",
       "        vertical-align: top;\n",
       "    }\n",
       "\n",
       "    .dataframe thead th {\n",
       "        text-align: right;\n",
       "    }\n",
       "</style>\n",
       "<table border=\"1\" class=\"dataframe\">\n",
       "  <thead>\n",
       "    <tr style=\"text-align: right;\">\n",
       "      <th></th>\n",
       "      <th>cID</th>\n",
       "      <th>rID</th>\n",
       "      <th>RefID</th>\n",
       "      <th>Classification</th>\n",
       "      <th>THRmicroM</th>\n",
       "      <th>EC50Str</th>\n",
       "      <th>EC50mM</th>\n",
       "      <th>EC50microM</th>\n",
       "      <th>Efficacy_str</th>\n",
       "      <th>Efficacy</th>\n",
       "      <th>Efficacy_microM</th>\n",
       "      <th>Concentration_used</th>\n",
       "      <th>SequenceVariant</th>\n",
       "    </tr>\n",
       "  </thead>\n",
       "  <tbody>\n",
       "    <tr>\n",
       "      <th>0</th>\n",
       "      <td>32</td>\n",
       "      <td>1</td>\n",
       "      <td>73</td>\n",
       "      <td>Bitter</td>\n",
       "      <td>0.1</td>\n",
       "      <td>NaN</td>\n",
       "      <td>NaN</td>\n",
       "      <td>NaN</td>\n",
       "      <td>NaN</td>\n",
       "      <td>NaN</td>\n",
       "      <td>NaN</td>\n",
       "      <td>NaN</td>\n",
       "      <td>NaN</td>\n",
       "    </tr>\n",
       "    <tr>\n",
       "      <th>1</th>\n",
       "      <td>32</td>\n",
       "      <td>14</td>\n",
       "      <td>73</td>\n",
       "      <td>Bitter</td>\n",
       "      <td>3.0</td>\n",
       "      <td>NaN</td>\n",
       "      <td>NaN</td>\n",
       "      <td>NaN</td>\n",
       "      <td>NaN</td>\n",
       "      <td>NaN</td>\n",
       "      <td>NaN</td>\n",
       "      <td>NaN</td>\n",
       "      <td>NaN</td>\n",
       "    </tr>\n",
       "    <tr>\n",
       "      <th>2</th>\n",
       "      <td>36</td>\n",
       "      <td>1</td>\n",
       "      <td>73</td>\n",
       "      <td>Bitter</td>\n",
       "      <td>0.1</td>\n",
       "      <td>NaN</td>\n",
       "      <td>NaN</td>\n",
       "      <td>1.4</td>\n",
       "      <td>NaN</td>\n",
       "      <td>NaN</td>\n",
       "      <td>NaN</td>\n",
       "      <td>NaN</td>\n",
       "      <td>NaN</td>\n",
       "    </tr>\n",
       "    <tr>\n",
       "      <th>3</th>\n",
       "      <td>36</td>\n",
       "      <td>40</td>\n",
       "      <td>73</td>\n",
       "      <td>Bitter</td>\n",
       "      <td>0.1</td>\n",
       "      <td>NaN</td>\n",
       "      <td>NaN</td>\n",
       "      <td>0.4</td>\n",
       "      <td>NaN</td>\n",
       "      <td>NaN</td>\n",
       "      <td>NaN</td>\n",
       "      <td>NaN</td>\n",
       "      <td>NaN</td>\n",
       "    </tr>\n",
       "    <tr>\n",
       "      <th>4</th>\n",
       "      <td>37</td>\n",
       "      <td>10</td>\n",
       "      <td>68</td>\n",
       "      <td>Bitter</td>\n",
       "      <td>30.0</td>\n",
       "      <td>NaN</td>\n",
       "      <td>NaN</td>\n",
       "      <td>NaN</td>\n",
       "      <td>NaN</td>\n",
       "      <td>NaN</td>\n",
       "      <td>NaN</td>\n",
       "      <td>NaN</td>\n",
       "      <td>NaN</td>\n",
       "    </tr>\n",
       "  </tbody>\n",
       "</table>\n",
       "</div>"
      ],
      "text/plain": [
       "   cID  rID  RefID Classification THRmicroM EC50Str  EC50mM  EC50microM  \\\n",
       "0   32    1     73         Bitter       0.1     NaN     NaN         NaN   \n",
       "1   32   14     73         Bitter       3.0     NaN     NaN         NaN   \n",
       "2   36    1     73         Bitter       0.1     NaN     NaN         1.4   \n",
       "3   36   40     73         Bitter       0.1     NaN     NaN         0.4   \n",
       "4   37   10     68         Bitter      30.0     NaN     NaN         NaN   \n",
       "\n",
       "  Efficacy_str  Efficacy  Efficacy_microM Concentration_used SequenceVariant  \n",
       "0          NaN       NaN              NaN                NaN             NaN  \n",
       "1          NaN       NaN              NaN                NaN             NaN  \n",
       "2          NaN       NaN              NaN                NaN             NaN  \n",
       "3          NaN       NaN              NaN                NaN             NaN  \n",
       "4          NaN       NaN              NaN                NaN             NaN  "
      ]
     },
     "execution_count": 2,
     "metadata": {},
     "output_type": "execute_result"
    }
   ],
   "source": [
    "ligandreceptor=pd.read_csv('Data\\BitterDB\\ligandReceptorsA_2024.csv')\n",
    "ligandreceptor.head()"
   ]
  },
  {
   "cell_type": "code",
   "execution_count": 3,
   "metadata": {},
   "outputs": [
    {
     "data": {
      "text/plain": [
       "cID                      0\n",
       "rID                      0\n",
       "RefID                    0\n",
       "Classification           0\n",
       "THRmicroM              429\n",
       "EC50Str               2165\n",
       "EC50mM                2157\n",
       "EC50microM            1557\n",
       "Efficacy_str          2061\n",
       "Efficacy              2190\n",
       "Efficacy_microM        764\n",
       "Concentration_used    2159\n",
       "SequenceVariant       2164\n",
       "dtype: int64"
      ]
     },
     "execution_count": 3,
     "metadata": {},
     "output_type": "execute_result"
    }
   ],
   "source": [
    "ligandreceptor.isna().sum()"
   ]
  },
  {
   "cell_type": "code",
   "execution_count": 6,
   "metadata": {},
   "outputs": [
    {
     "data": {
      "text/plain": [
       "cID                     int64\n",
       "rID                     int64\n",
       "RefID                   int64\n",
       "Classification         object\n",
       "THRmicroM              object\n",
       "EC50Str                object\n",
       "EC50mM                float64\n",
       "EC50microM            float64\n",
       "Efficacy_str           object\n",
       "Efficacy              float64\n",
       "Efficacy_microM       float64\n",
       "Concentration_used     object\n",
       "SequenceVariant        object\n",
       "dtype: object"
      ]
     },
     "execution_count": 6,
     "metadata": {},
     "output_type": "execute_result"
    }
   ],
   "source": [
    "ligandreceptor.dtypes"
   ]
  },
  {
   "cell_type": "code",
   "execution_count": 7,
   "metadata": {},
   "outputs": [],
   "source": [
    "# Select relevant columns\n",
    "relevant_columns = ['cID', 'rID', 'Classification', 'EC50microM', 'THRmicroM', 'Efficacy']\n",
    "ligand_receptor_cleaned = ligandreceptor[relevant_columns]"
   ]
  },
  {
   "cell_type": "code",
   "execution_count": 8,
   "metadata": {},
   "outputs": [
    {
     "name": "stderr",
     "output_type": "stream",
     "text": [
      "C:\\Users\\hp\\AppData\\Local\\Temp\\ipykernel_18688\\2792242856.py:3: SettingWithCopyWarning: \n",
      "A value is trying to be set on a copy of a slice from a DataFrame.\n",
      "Try using .loc[row_indexer,col_indexer] = value instead\n",
      "\n",
      "See the caveats in the documentation: https://pandas.pydata.org/pandas-docs/stable/user_guide/indexing.html#returning-a-view-versus-a-copy\n",
      "  ligand_receptor_cleaned[col] = pd.to_numeric(ligand_receptor_cleaned[col], errors='coerce')\n"
     ]
    }
   ],
   "source": [
    "# Convert concentration columns to numeric, replacing non-numeric values with NaN\n",
    "for col in ['EC50microM', 'THRmicroM', 'Efficacy']:\n",
    "    ligand_receptor_cleaned[col] = pd.to_numeric(ligand_receptor_cleaned[col], errors='coerce')"
   ]
  },
  {
   "cell_type": "code",
   "execution_count": 9,
   "metadata": {},
   "outputs": [
    {
     "name": "stderr",
     "output_type": "stream",
     "text": [
      "C:\\Users\\hp\\AppData\\Local\\Temp\\ipykernel_18688\\3298210381.py:3: SettingWithCopyWarning: \n",
      "A value is trying to be set on a copy of a slice from a DataFrame.\n",
      "Try using .loc[row_indexer,col_indexer] = value instead\n",
      "\n",
      "See the caveats in the documentation: https://pandas.pydata.org/pandas-docs/stable/user_guide/indexing.html#returning-a-view-versus-a-copy\n",
      "  ligand_receptor_cleaned[col] = ligand_receptor_cleaned[col].fillna(ligand_receptor_cleaned[col].median())\n",
      "C:\\Users\\hp\\AppData\\Local\\Temp\\ipykernel_18688\\3298210381.py:3: SettingWithCopyWarning: \n",
      "A value is trying to be set on a copy of a slice from a DataFrame.\n",
      "Try using .loc[row_indexer,col_indexer] = value instead\n",
      "\n",
      "See the caveats in the documentation: https://pandas.pydata.org/pandas-docs/stable/user_guide/indexing.html#returning-a-view-versus-a-copy\n",
      "  ligand_receptor_cleaned[col] = ligand_receptor_cleaned[col].fillna(ligand_receptor_cleaned[col].median())\n",
      "C:\\Users\\hp\\AppData\\Local\\Temp\\ipykernel_18688\\3298210381.py:3: SettingWithCopyWarning: \n",
      "A value is trying to be set on a copy of a slice from a DataFrame.\n",
      "Try using .loc[row_indexer,col_indexer] = value instead\n",
      "\n",
      "See the caveats in the documentation: https://pandas.pydata.org/pandas-docs/stable/user_guide/indexing.html#returning-a-view-versus-a-copy\n",
      "  ligand_receptor_cleaned[col] = ligand_receptor_cleaned[col].fillna(ligand_receptor_cleaned[col].median())\n"
     ]
    }
   ],
   "source": [
    "# Fill missing values with median for numeric columns\n",
    "for col in ['EC50microM', 'THRmicroM', 'Efficacy']:\n",
    "    ligand_receptor_cleaned[col] = ligand_receptor_cleaned[col].fillna(ligand_receptor_cleaned[col].median())"
   ]
  },
  {
   "cell_type": "code",
   "execution_count": 10,
   "metadata": {},
   "outputs": [
    {
     "data": {
      "text/plain": [
       "cID               0\n",
       "rID               0\n",
       "Classification    0\n",
       "EC50microM        0\n",
       "THRmicroM         0\n",
       "Efficacy          0\n",
       "dtype: int64"
      ]
     },
     "execution_count": 10,
     "metadata": {},
     "output_type": "execute_result"
    }
   ],
   "source": [
    "ligand_receptor_cleaned.isna().sum()"
   ]
  },
  {
   "cell_type": "code",
   "execution_count": 11,
   "metadata": {},
   "outputs": [],
   "source": [
    "# Save the cleaned dataset\n",
    "ligand_receptor_cleaned.to_csv(\"ligandReceptorsA_2024_cleaned.csv\", index=False)\n"
   ]
  },
  {
   "cell_type": "code",
   "execution_count": null,
   "metadata": {},
   "outputs": [],
   "source": []
  }
 ],
 "metadata": {
  "kernelspec": {
   "display_name": "Python 3",
   "language": "python",
   "name": "python3"
  },
  "language_info": {
   "codemirror_mode": {
    "name": "ipython",
    "version": 3
   },
   "file_extension": ".py",
   "mimetype": "text/x-python",
   "name": "python",
   "nbconvert_exporter": "python",
   "pygments_lexer": "ipython3",
   "version": "3.10.7"
  }
 },
 "nbformat": 4,
 "nbformat_minor": 2
}
