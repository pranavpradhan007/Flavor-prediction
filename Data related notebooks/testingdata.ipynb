{
 "cells": [
  {
   "cell_type": "code",
   "execution_count": 62,
   "metadata": {},
   "outputs": [],
   "source": [
    "import pandas as pd\n",
    "import numpy as np"
   ]
  },
  {
   "cell_type": "code",
   "execution_count": 63,
   "metadata": {},
   "outputs": [],
   "source": [
    "bitter_props = pd.read_csv(\"Data\\BitterDB\\BitterCompoundsPropA_2024.csv\")\n",
    "ligand_receptors = pd.read_csv(\"Data\\BitterDB\\ligandReceptorsA_2024.csv\")\n",
    "compound_names = pd.read_csv(\"Data\\BitterDB\\compoundsnamesA_2024.csv\")"
   ]
  },
  {
   "cell_type": "code",
   "execution_count": 64,
   "metadata": {},
   "outputs": [
    {
     "name": "stdout",
     "output_type": "stream",
     "text": [
      "BitterCompoundsPropA_2024.csv:\n",
      "   cid                                             cStruc  \\\n",
      "0    7  COC1=CC2=C(C=CN=C2C=C1)C(C3CC4CCN3CC4C=C)O.OS(...   \n",
      "1    9     COC1=CC2=C(C=CN=C2C=C1)C(C3CC4CC[NH+]3CC4C=C)O   \n",
      "2   11  CC(C)CC(=O)C1=C(C(C(=O)C(C1=O)CC=C(C)C)(CC=C(C...   \n",
      "3   14  COC1=CC2=C(C=CN=C2C=C1)C(C3CC4CCN3CC4C=C)O.COC...   \n",
      "4   15                                   C1=CC=C(C=C1)C=O   \n",
      "\n",
      "                                    canonical_smiles  \\\n",
      "0  COC1=CC2=C(C=CN=C2C=C1)C(C3CC4CCN3CC4C=C)O.OS(...   \n",
      "1     COC1=CC2=C(C=CN=C2C=C1)C(C3CC4CC[NH+]3CC4C=C)O   \n",
      "2  CC(C)CC(=O)C1=C(C(C(=O)C(C1=O)CC=C(C)C)(CC=C(C...   \n",
      "3  COC1=CC2=C(C=CN=C2C=C1)C(C3CC4CCN3CC4C=C)O.COC...   \n",
      "4                                   C1=CC=C(C=C1)C=O   \n",
      "\n",
      "                                     Isomeric_smiles   pubChemID  \\\n",
      "0  COC1=CC2=C(C=CN=C2C=C1)C(C3CC4CCN3CC4C=C)O.OS(...     11069.0   \n",
      "1  COC1=CC2=C(C=CN=C2C=C1)[C@H]([C@@H]3C[C@H]4CC[...  11920271.0   \n",
      "2  CC(C)CC(=O)C1=C(C(C(=O)C(C1=O)CC=C(C)C)(CC=C(C...    160467.0   \n",
      "3  COC1=CC2=C(C=CN=C2C=C1)C(C3CC4CCN3CC4C=C)O.COC...  23424040.0   \n",
      "4                                   C1=CC=C(C=C1)C=O       240.0   \n",
      "\n",
      "                                               IUPAC     cFormula  \\\n",
      "0  (5-ethenyl-1-azabicyclo[2.2.2]octan-2-yl)-(6-m...  C20H26N2O6S   \n",
      "1  (R)-[(2S,4R,5R)-5-ethenyl-1-azoniabicyclo[2.2....  C20H25N2O2+   \n",
      "2  5,6-dihydroxy-4-(3-methylbutanoyl)-2,6-bis(3-m...     C21H30O5   \n",
      "3  (5-ethenyl-1-azabicyclo[2.2.2]octan-2-yl)-(6-m...  C40H50N4O8S   \n",
      "4                                       benzaldehyde        C7H6O   \n",
      "\n",
      "                      InChiKey      MW   AlogP  ...  comment  \\\n",
      "0  AKYHKWQPZHDOBW-UHFFFAOYSA-N  422.50  2.5204  ...      NaN   \n",
      "1  LOUPRKONTZGTKE-FOEVPDMQSA-O  325.43  1.7561  ...      NaN   \n",
      "2  IEHWDPKFDXJDJL-UHFFFAOYSA-N  362.47  3.6254  ...      NaN   \n",
      "3  RONWGALEIBILOG-UHFFFAOYSA-N  746.93  5.6936  ...      NaN   \n",
      "4  HUMNYLRZRPPJDN-UHFFFAOYSA-N  106.12  1.4991  ...      NaN   \n",
      "\n",
      "                 Cas_Number_Final  Human  Chicken Mouse Cat  \\\n",
      "0                        549-56-4      1        1     0   0   \n",
      "1                             NaN      1        0     0   0   \n",
      "2  469-02-3,54378-50-6,54378-86-8      1        0     0   0   \n",
      "3                       6119-70-6      1        1     0   0   \n",
      "4                        100-52-7      1        0     0   0   \n",
      "\n",
      "   related_pubChemID  more_identifiers  related_bitterCompounds  IUPharLink  \n",
      "0               1065               NaN                       14         NaN  \n",
      "1                NaN               NaN                 38,39,40         NaN  \n",
      "2                NaN               NaN                       36         NaN  \n",
      "3               1065               NaN                        7         NaN  \n",
      "4                NaN               NaN                      NaN         NaN  \n",
      "\n",
      "[5 rows x 31 columns]\n"
     ]
    }
   ],
   "source": [
    "print(\"BitterCompoundsPropA_2024.csv:\")\n",
    "print(bitter_props.head())\n"
   ]
  },
  {
   "cell_type": "code",
   "execution_count": 65,
   "metadata": {},
   "outputs": [
    {
     "name": "stdout",
     "output_type": "stream",
     "text": [
      "\n",
      "ligandReceptorsA_2024.csv:\n",
      "   cID  rID  RefID Classification THRmicroM EC50Str  EC50mM  EC50microM  \\\n",
      "0   32    1     73         Bitter       0.1     NaN     NaN         NaN   \n",
      "1   32   14     73         Bitter       3.0     NaN     NaN         NaN   \n",
      "2   36    1     73         Bitter       0.1     NaN     NaN         1.4   \n",
      "3   36   40     73         Bitter       0.1     NaN     NaN         0.4   \n",
      "4   37   10     68         Bitter      30.0     NaN     NaN         NaN   \n",
      "\n",
      "  Efficacy_str  Efficacy  Efficacy_microM Concentration_used SequenceVariant  \n",
      "0          NaN       NaN              NaN                NaN             NaN  \n",
      "1          NaN       NaN              NaN                NaN             NaN  \n",
      "2          NaN       NaN              NaN                NaN             NaN  \n",
      "3          NaN       NaN              NaN                NaN             NaN  \n",
      "4          NaN       NaN              NaN                NaN             NaN  \n"
     ]
    }
   ],
   "source": [
    "print(\"\\nligandReceptorsA_2024.csv:\")\n",
    "print(ligand_receptors.head())\n"
   ]
  },
  {
   "cell_type": "code",
   "execution_count": 66,
   "metadata": {},
   "outputs": [
    {
     "name": "stdout",
     "output_type": "stream",
     "text": [
      "\n",
      "compoundsnamesA_2024.csv:\n",
      "   cID            cName  order\n",
      "0    7        Quinidine      0\n",
      "1    7  Quinine sulfate      1\n",
      "2    9          Quinine      0\n",
      "3   11          Humulon      0\n",
      "4   14        Quinidine      0\n"
     ]
    }
   ],
   "source": [
    "print(\"\\ncompoundsnamesA_2024.csv:\")\n",
    "print(compound_names.head())"
   ]
  },
  {
   "cell_type": "code",
   "execution_count": 67,
   "metadata": {},
   "outputs": [
    {
     "data": {
      "text/plain": [
       "cid                           0\n",
       "cStruc                        0\n",
       "canonical_smiles              0\n",
       "Isomeric_smiles               0\n",
       "pubChemID                   413\n",
       "IUPAC                       489\n",
       "cFormula                      0\n",
       "InChiKey                      0\n",
       "MW                            0\n",
       "AlogP                         0\n",
       "Num_AromaticRings             0\n",
       "Num_H_Acceptors               0\n",
       "Num_H_Donors                  0\n",
       "Num_RotatableBonds            0\n",
       "Num_Rings                    29\n",
       "isNatural                  1886\n",
       "ExpVal                     1742\n",
       "SensoryThr                    0\n",
       "toxicity_val                  0\n",
       "pubChemSid                 2144\n",
       "AminoAcidSeq               1759\n",
       "comment                    1998\n",
       "Cas_Number_Final           1462\n",
       "Human                         0\n",
       "Chicken                       0\n",
       "Mouse                         0\n",
       "Cat                           0\n",
       "related_pubChemID          2220\n",
       "more_identifiers           2058\n",
       "related_bitterCompounds    2237\n",
       "IUPharLink                 2250\n",
       "dtype: int64"
      ]
     },
     "execution_count": 67,
     "metadata": {},
     "output_type": "execute_result"
    }
   ],
   "source": [
    "bitter_props.isna().sum()"
   ]
  },
  {
   "cell_type": "code",
   "execution_count": 68,
   "metadata": {},
   "outputs": [
    {
     "data": {
      "text/plain": [
       "cID                      0\n",
       "rID                      0\n",
       "RefID                    0\n",
       "Classification           0\n",
       "THRmicroM              429\n",
       "EC50Str               2165\n",
       "EC50mM                2157\n",
       "EC50microM            1557\n",
       "Efficacy_str          2061\n",
       "Efficacy              2190\n",
       "Efficacy_microM        764\n",
       "Concentration_used    2159\n",
       "SequenceVariant       2164\n",
       "dtype: int64"
      ]
     },
     "execution_count": 68,
     "metadata": {},
     "output_type": "execute_result"
    }
   ],
   "source": [
    "ligand_receptors.isna().sum()"
   ]
  },
  {
   "cell_type": "code",
   "execution_count": 69,
   "metadata": {},
   "outputs": [
    {
     "data": {
      "text/plain": [
       "cID      0\n",
       "cName    0\n",
       "order    0\n",
       "dtype: int64"
      ]
     },
     "execution_count": 69,
     "metadata": {},
     "output_type": "execute_result"
    }
   ],
   "source": [
    "compound_names.isna().sum()"
   ]
  },
  {
   "cell_type": "code",
   "execution_count": 70,
   "metadata": {},
   "outputs": [
    {
     "data": {
      "text/html": [
       "<div>\n",
       "<style scoped>\n",
       "    .dataframe tbody tr th:only-of-type {\n",
       "        vertical-align: middle;\n",
       "    }\n",
       "\n",
       "    .dataframe tbody tr th {\n",
       "        vertical-align: top;\n",
       "    }\n",
       "\n",
       "    .dataframe thead th {\n",
       "        text-align: right;\n",
       "    }\n",
       "</style>\n",
       "<table border=\"1\" class=\"dataframe\">\n",
       "  <thead>\n",
       "    <tr style=\"text-align: right;\">\n",
       "      <th></th>\n",
       "      <th>ID</th>\n",
       "      <th>Name</th>\n",
       "      <th>logSw</th>\n",
       "      <th>Smiles</th>\n",
       "    </tr>\n",
       "  </thead>\n",
       "  <tbody>\n",
       "    <tr>\n",
       "      <th>0</th>\n",
       "      <td>1</td>\n",
       "      <td>alpha-L-Rhamnopyranose</td>\n",
       "      <td>-0.85</td>\n",
       "      <td>C[C@@H]1O[C@@H](O)[C@H](O)[C@H](O)[C@H]1O</td>\n",
       "    </tr>\n",
       "    <tr>\n",
       "      <th>1</th>\n",
       "      <td>2</td>\n",
       "      <td>glycerol</td>\n",
       "      <td>-0.80</td>\n",
       "      <td>OCC(O)CO</td>\n",
       "    </tr>\n",
       "    <tr>\n",
       "      <th>2</th>\n",
       "      <td>3</td>\n",
       "      <td>beta-D-Galactopyranose</td>\n",
       "      <td>-0.72</td>\n",
       "      <td>OC[C@H]1O[C@@H](O)[C@H](O)[C@@H](O)[C@H]1O</td>\n",
       "    </tr>\n",
       "    <tr>\n",
       "      <th>3</th>\n",
       "      <td>4</td>\n",
       "      <td>4-galactosyl-kojibiose</td>\n",
       "      <td>-0.66</td>\n",
       "      <td>OC[C@H]1O[C@H](O[C@@H]2[C@@H](O)[C@H](O[C@@H]3...</td>\n",
       "    </tr>\n",
       "    <tr>\n",
       "      <th>4</th>\n",
       "      <td>5</td>\n",
       "      <td>stachyose</td>\n",
       "      <td>-0.66</td>\n",
       "      <td>OCC1OC(OCC2OC(OCC3OC(O[C@]4(CO)OC(CO)C(O)C4O)C...</td>\n",
       "    </tr>\n",
       "  </tbody>\n",
       "</table>\n",
       "</div>"
      ],
      "text/plain": [
       "   ID                    Name  logSw  \\\n",
       "0   1  alpha-L-Rhamnopyranose  -0.85   \n",
       "1   2                glycerol  -0.80   \n",
       "2   3  beta-D-Galactopyranose  -0.72   \n",
       "3   4  4-galactosyl-kojibiose  -0.66   \n",
       "4   5               stachyose  -0.66   \n",
       "\n",
       "                                              Smiles  \n",
       "0          C[C@@H]1O[C@@H](O)[C@H](O)[C@H](O)[C@H]1O  \n",
       "1                                           OCC(O)CO  \n",
       "2         OC[C@H]1O[C@@H](O)[C@H](O)[C@@H](O)[C@H]1O  \n",
       "3  OC[C@H]1O[C@H](O[C@@H]2[C@@H](O)[C@H](O[C@@H]3...  \n",
       "4  OCC1OC(OCC2OC(OCC3OC(O[C@]4(CO)OC(CO)C(O)C4O)C...  "
      ]
     },
     "execution_count": 70,
     "metadata": {},
     "output_type": "execute_result"
    }
   ],
   "source": [
    "sweetner=pd.read_csv(\"Data\\SweetnerDB\\SweetenersDB_v2.0.csv\")\n",
    "sweetner.head()"
   ]
  },
  {
   "cell_type": "code",
   "execution_count": 71,
   "metadata": {},
   "outputs": [
    {
     "data": {
      "text/plain": [
       "ID        0\n",
       "Name      0\n",
       "logSw     0\n",
       "Smiles    0\n",
       "dtype: int64"
      ]
     },
     "execution_count": 71,
     "metadata": {},
     "output_type": "execute_result"
    }
   ],
   "source": [
    "sweetner.isna().sum()"
   ]
  },
  {
   "cell_type": "code",
   "execution_count": 72,
   "metadata": {},
   "outputs": [
    {
     "name": "stdout",
     "output_type": "stream",
     "text": [
      "Requirement already satisfied: rdkit in c:\\users\\hp\\appdata\\local\\programs\\python\\python310\\lib\\site-packages (2024.9.5)\n",
      "Requirement already satisfied: numpy in c:\\users\\hp\\appdata\\local\\programs\\python\\python310\\lib\\site-packages (from rdkit) (1.25.0)\n",
      "Requirement already satisfied: Pillow in c:\\users\\hp\\appdata\\local\\programs\\python\\python310\\lib\\site-packages (from rdkit) (9.5.0)\n"
     ]
    },
    {
     "name": "stderr",
     "output_type": "stream",
     "text": [
      "\n",
      "[notice] A new release of pip is available: 24.3.1 -> 25.0.1\n",
      "[notice] To update, run: python.exe -m pip install --upgrade pip\n"
     ]
    }
   ],
   "source": [
    "!pip install rdkit"
   ]
  },
  {
   "cell_type": "code",
   "execution_count": 73,
   "metadata": {},
   "outputs": [
    {
     "data": {
      "text/plain": [
       "Index(['cid', 'cStruc', 'canonical_smiles', 'Isomeric_smiles', 'pubChemID',\n",
       "       'IUPAC', 'cFormula', 'InChiKey', 'MW', 'AlogP', 'Num_AromaticRings',\n",
       "       'Num_H_Acceptors', 'Num_H_Donors', 'Num_RotatableBonds', 'Num_Rings',\n",
       "       'isNatural', 'ExpVal', 'SensoryThr', 'toxicity_val', 'pubChemSid',\n",
       "       'AminoAcidSeq', 'comment', 'Cas_Number_Final', 'Human', 'Chicken',\n",
       "       'Mouse', 'Cat', 'related_pubChemID', 'more_identifiers',\n",
       "       'related_bitterCompounds', 'IUPharLink'],\n",
       "      dtype='object')"
      ]
     },
     "execution_count": 73,
     "metadata": {},
     "output_type": "execute_result"
    }
   ],
   "source": [
    "bitter_props.columns"
   ]
  },
  {
   "cell_type": "code",
   "execution_count": 74,
   "metadata": {},
   "outputs": [],
   "source": [
    "threshold=0.8*len(bitter_props)\n",
    "bitter_props_cleaned=bitter_props.dropna(axis=1, thresh=threshold)\n"
   ]
  },
  {
   "cell_type": "code",
   "execution_count": 75,
   "metadata": {},
   "outputs": [
    {
     "data": {
      "text/plain": [
       "Index(['cid', 'cStruc', 'canonical_smiles', 'Isomeric_smiles', 'pubChemID',\n",
       "       'IUPAC', 'cFormula', 'InChiKey', 'MW', 'AlogP', 'Num_AromaticRings',\n",
       "       'Num_H_Acceptors', 'Num_H_Donors', 'Num_RotatableBonds', 'Num_Rings',\n",
       "       'isNatural', 'ExpVal', 'SensoryThr', 'toxicity_val', 'pubChemSid',\n",
       "       'AminoAcidSeq', 'comment', 'Cas_Number_Final', 'Human', 'Chicken',\n",
       "       'Mouse', 'Cat', 'related_pubChemID', 'more_identifiers',\n",
       "       'related_bitterCompounds', 'IUPharLink'],\n",
       "      dtype='object')"
      ]
     },
     "execution_count": 75,
     "metadata": {},
     "output_type": "execute_result"
    }
   ],
   "source": [
    "bitter_props.columns"
   ]
  },
  {
   "cell_type": "code",
   "execution_count": 76,
   "metadata": {},
   "outputs": [
    {
     "name": "stdout",
     "output_type": "stream",
     "text": [
      "Remaining columns: Index(['cid', 'cStruc', 'canonical_smiles', 'Isomeric_smiles', 'pubChemID',\n",
      "       'cFormula', 'InChiKey', 'MW', 'AlogP', 'Num_AromaticRings',\n",
      "       'Num_H_Acceptors', 'Num_H_Donors', 'Num_RotatableBonds', 'Num_Rings',\n",
      "       'SensoryThr', 'toxicity_val', 'Human', 'Chicken', 'Mouse', 'Cat'],\n",
      "      dtype='object')\n"
     ]
    }
   ],
   "source": [
    "columns_to_drop = [\n",
    "    'comment', 'related_pubChemID', 'more_identifiers', \n",
    "    'related_bitterCompounds', 'IUPharLink', 'pubChemSid'\n",
    "]\n",
    "bitter_props_cleaned = bitter_props_cleaned.drop(columns=columns_to_drop, errors='ignore')\n",
    "\n",
    "print(f\"Remaining columns: {bitter_props_cleaned.columns}\")"
   ]
  },
  {
   "cell_type": "code",
   "execution_count": 77,
   "metadata": {},
   "outputs": [
    {
     "data": {
      "text/plain": [
       "cid                          int64\n",
       "cStruc                      object\n",
       "canonical_smiles            object\n",
       "Isomeric_smiles             object\n",
       "pubChemID                  float64\n",
       "IUPAC                       object\n",
       "cFormula                    object\n",
       "InChiKey                    object\n",
       "MW                         float64\n",
       "AlogP                      float64\n",
       "Num_AromaticRings            int64\n",
       "Num_H_Acceptors              int64\n",
       "Num_H_Donors                 int64\n",
       "Num_RotatableBonds           int64\n",
       "Num_Rings                   object\n",
       "isNatural                   object\n",
       "ExpVal                     float64\n",
       "SensoryThr                   int64\n",
       "toxicity_val               float64\n",
       "pubChemSid                 float64\n",
       "AminoAcidSeq                object\n",
       "comment                     object\n",
       "Cas_Number_Final            object\n",
       "Human                        int64\n",
       "Chicken                      int64\n",
       "Mouse                        int64\n",
       "Cat                          int64\n",
       "related_pubChemID           object\n",
       "more_identifiers            object\n",
       "related_bitterCompounds     object\n",
       "IUPharLink                 float64\n",
       "dtype: object"
      ]
     },
     "execution_count": 77,
     "metadata": {},
     "output_type": "execute_result"
    }
   ],
   "source": [
    "bitter_props.dtypes"
   ]
  },
  {
   "cell_type": "code",
   "execution_count": 78,
   "metadata": {},
   "outputs": [],
   "source": [
    "# Convert Num_Rings to numeric\n",
    "bitter_props['Num_Rings'] = pd.to_numeric(bitter_props['Num_Rings'], errors='coerce')"
   ]
  },
  {
   "cell_type": "code",
   "execution_count": 79,
   "metadata": {},
   "outputs": [],
   "source": [
    "# Impute missing values for numeric columns\n",
    "numeric_columns = ['MW', 'AlogP', 'Num_AromaticRings', 'Num_H_Acceptors', 'Num_H_Donors', 'Num_RotatableBonds', 'SensoryThr', 'Human', 'Chicken', 'Mouse', 'Cat', 'Num_Rings']\n",
    "for col in numeric_columns:\n",
    "    bitter_props[col] = bitter_props[col].fillna(bitter_props[col].median())"
   ]
  },
  {
   "cell_type": "code",
   "execution_count": 80,
   "metadata": {},
   "outputs": [],
   "source": [
    "crucial_columns = ['canonical_smiles', 'Isomeric_smiles', 'cFormula', 'InChiKey']\n",
    "bitter_props = bitter_props.dropna(subset=crucial_columns)"
   ]
  },
  {
   "cell_type": "code",
   "execution_count": 81,
   "metadata": {},
   "outputs": [],
   "source": [
    "from rdkit import Chem\n",
    "\n",
    "def validate_smiles(smiles):\n",
    "    mol = Chem.MolFromSmiles(smiles)\n",
    "    return mol is not None"
   ]
  },
  {
   "cell_type": "code",
   "execution_count": 82,
   "metadata": {},
   "outputs": [
    {
     "data": {
      "text/plain": [
       "Index(['cid', 'cStruc', 'canonical_smiles', 'Isomeric_smiles', 'pubChemID',\n",
       "       'IUPAC', 'cFormula', 'InChiKey', 'MW', 'AlogP', 'Num_AromaticRings',\n",
       "       'Num_H_Acceptors', 'Num_H_Donors', 'Num_RotatableBonds', 'Num_Rings',\n",
       "       'isNatural', 'ExpVal', 'SensoryThr', 'toxicity_val', 'pubChemSid',\n",
       "       'AminoAcidSeq', 'comment', 'Cas_Number_Final', 'Human', 'Chicken',\n",
       "       'Mouse', 'Cat', 'related_pubChemID', 'more_identifiers',\n",
       "       'related_bitterCompounds', 'IUPharLink', 'valid_smiles'],\n",
       "      dtype='object')"
      ]
     },
     "execution_count": 82,
     "metadata": {},
     "output_type": "execute_result"
    }
   ],
   "source": [
    "bitter_props['valid_smiles'] = bitter_props['canonical_smiles'].apply(validate_smiles)\n",
    "bitter_props = bitter_props[bitter_props['valid_smiles']]\n",
    "bitter_props.columns"
   ]
  },
  {
   "cell_type": "code",
   "execution_count": 83,
   "metadata": {},
   "outputs": [
    {
     "data": {
      "text/plain": [
       "Index(['cid', 'cStruc', 'canonical_smiles', 'Isomeric_smiles', 'pubChemID',\n",
       "       'IUPAC', 'cFormula', 'InChiKey', 'MW', 'AlogP', 'Num_AromaticRings',\n",
       "       'Num_H_Acceptors', 'Num_H_Donors', 'Num_RotatableBonds', 'Num_Rings',\n",
       "       'isNatural', 'ExpVal', 'SensoryThr', 'toxicity_val', 'pubChemSid',\n",
       "       'AminoAcidSeq', 'comment', 'Cas_Number_Final', 'Human', 'Chicken',\n",
       "       'Mouse', 'Cat', 'related_pubChemID', 'more_identifiers',\n",
       "       'related_bitterCompounds', 'IUPharLink'],\n",
       "      dtype='object')"
      ]
     },
     "execution_count": 83,
     "metadata": {},
     "output_type": "execute_result"
    }
   ],
   "source": [
    "# Drop the temporary 'valid_smiles' column\n",
    "bitter_props = bitter_props.drop(columns=['valid_smiles'])\n",
    "bitter_props.columns"
   ]
  },
  {
   "cell_type": "code",
   "execution_count": 84,
   "metadata": {},
   "outputs": [
    {
     "data": {
      "text/plain": [
       "cid                           0\n",
       "cStruc                        0\n",
       "canonical_smiles              0\n",
       "Isomeric_smiles               0\n",
       "pubChemID                   413\n",
       "IUPAC                       489\n",
       "cFormula                      0\n",
       "InChiKey                      0\n",
       "MW                            0\n",
       "AlogP                         0\n",
       "Num_AromaticRings             0\n",
       "Num_H_Acceptors               0\n",
       "Num_H_Donors                  0\n",
       "Num_RotatableBonds            0\n",
       "Num_Rings                     0\n",
       "isNatural                  1886\n",
       "ExpVal                     1742\n",
       "SensoryThr                    0\n",
       "toxicity_val                  0\n",
       "pubChemSid                 2144\n",
       "AminoAcidSeq               1759\n",
       "comment                    1998\n",
       "Cas_Number_Final           1462\n",
       "Human                         0\n",
       "Chicken                       0\n",
       "Mouse                         0\n",
       "Cat                           0\n",
       "related_pubChemID          2220\n",
       "more_identifiers           2058\n",
       "related_bitterCompounds    2237\n",
       "IUPharLink                 2250\n",
       "dtype: int64"
      ]
     },
     "execution_count": 84,
     "metadata": {},
     "output_type": "execute_result"
    }
   ],
   "source": [
    "bitter_props.isna().sum()"
   ]
  },
  {
   "cell_type": "code",
   "execution_count": null,
   "metadata": {},
   "outputs": [],
   "source": []
  }
 ],
 "metadata": {
  "kernelspec": {
   "display_name": "Python 3",
   "language": "python",
   "name": "python3"
  },
  "language_info": {
   "codemirror_mode": {
    "name": "ipython",
    "version": 3
   },
   "file_extension": ".py",
   "mimetype": "text/x-python",
   "name": "python",
   "nbconvert_exporter": "python",
   "pygments_lexer": "ipython3",
   "version": "3.10.7"
  }
 },
 "nbformat": 4,
 "nbformat_minor": 2
}
